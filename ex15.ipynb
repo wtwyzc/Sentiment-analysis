{
 "cells": [
  {
   "cell_type": "code",
   "execution_count": 1,
   "metadata": {},
   "outputs": [],
   "source": [
    "import numpy as np\n",
    "import pandas as pd\n",
    "import matplotlib.pyplot  as plt\n",
    "import re  #正则表达式\n",
    "import nltk \n"
   ]
  },
  {
   "cell_type": "markdown",
   "metadata": {},
   "source": [
    "## 读入数据 "
   ]
  },
  {
   "cell_type": "code",
   "execution_count": 2,
   "metadata": {},
   "outputs": [
    {
     "name": "stdout",
     "output_type": "stream",
     "text": [
      "<class 'pandas.core.frame.DataFrame'>\n",
      "RangeIndex: 2000 entries, 0 to 1999\n",
      "Data columns (total 4 columns):\n",
      " #   Column     Non-Null Count  Dtype \n",
      "---  ------     --------------  ----- \n",
      " 0   Index      2000 non-null   int64 \n",
      " 1   URL        2000 non-null   object\n",
      " 2   Text       2000 non-null   object\n",
      " 3   Sentiment  2000 non-null   object\n",
      "dtypes: int64(1), object(3)\n",
      "memory usage: 62.6+ KB\n",
      "NEG    1000\n",
      "POS    1000\n",
      "Name: Sentiment, dtype: int64\n"
     ]
    },
    {
     "data": {
      "text/html": [
       "<div>\n",
       "<style scoped>\n",
       "    .dataframe tbody tr th:only-of-type {\n",
       "        vertical-align: middle;\n",
       "    }\n",
       "\n",
       "    .dataframe tbody tr th {\n",
       "        vertical-align: top;\n",
       "    }\n",
       "\n",
       "    .dataframe thead th {\n",
       "        text-align: right;\n",
       "    }\n",
       "</style>\n",
       "<table border=\"1\" class=\"dataframe\">\n",
       "  <thead>\n",
       "    <tr style=\"text-align: right;\">\n",
       "      <th></th>\n",
       "      <th>Index</th>\n",
       "      <th>URL</th>\n",
       "      <th>Text</th>\n",
       "      <th>Sentiment</th>\n",
       "    </tr>\n",
       "  </thead>\n",
       "  <tbody>\n",
       "    <tr>\n",
       "      <th>0</th>\n",
       "      <td>3617</td>\n",
       "      <td>http://www.imdb.com/title/tt0210075/usercomments</td>\n",
       "      <td>Girlfight follows a project dwelling New York ...</td>\n",
       "      <td>POS</td>\n",
       "    </tr>\n",
       "    <tr>\n",
       "      <th>1</th>\n",
       "      <td>3671</td>\n",
       "      <td>http://www.imdb.com/title/tt0337640/usercomments</td>\n",
       "      <td>Hollywood North is an euphemism from the movie...</td>\n",
       "      <td>POS</td>\n",
       "    </tr>\n",
       "    <tr>\n",
       "      <th>2</th>\n",
       "      <td>3157</td>\n",
       "      <td>http://www.imdb.com/title/tt0303549/usercomments</td>\n",
       "      <td>That '70s Show is definitely the funniest show...</td>\n",
       "      <td>POS</td>\n",
       "    </tr>\n",
       "    <tr>\n",
       "      <th>3</th>\n",
       "      <td>660</td>\n",
       "      <td>http://www.imdb.com/title/tt0716825/usercomments</td>\n",
       "      <td>9/10- 30 minutes of pure holiday terror. Okay,...</td>\n",
       "      <td>POS</td>\n",
       "    </tr>\n",
       "    <tr>\n",
       "      <th>4</th>\n",
       "      <td>265</td>\n",
       "      <td>http://www.imdb.com/title/tt0182225/usercomments</td>\n",
       "      <td>A series of random, seemingly insignificant th...</td>\n",
       "      <td>POS</td>\n",
       "    </tr>\n",
       "    <tr>\n",
       "      <th>5</th>\n",
       "      <td>4027</td>\n",
       "      <td>http://www.imdb.com/title/tt0347779/usercomments</td>\n",
       "      <td>A very good adaptation of the novel by amrita ...</td>\n",
       "      <td>POS</td>\n",
       "    </tr>\n",
       "    <tr>\n",
       "      <th>6</th>\n",
       "      <td>5820</td>\n",
       "      <td>http://www.imdb.com/title/tt0095655/usercomments</td>\n",
       "      <td>Ah, Moonwalker, I'm a huge Michael Jackson fan...</td>\n",
       "      <td>POS</td>\n",
       "    </tr>\n",
       "    <tr>\n",
       "      <th>7</th>\n",
       "      <td>1574</td>\n",
       "      <td>http://www.imdb.com/title/tt0298131/usercomments</td>\n",
       "      <td>Although the beginning of the movie in New Yor...</td>\n",
       "      <td>POS</td>\n",
       "    </tr>\n",
       "    <tr>\n",
       "      <th>8</th>\n",
       "      <td>10668</td>\n",
       "      <td>http://www.imdb.com/title/tt0088915/usercomments</td>\n",
       "      <td>As many reviewers here have noted, the film ve...</td>\n",
       "      <td>POS</td>\n",
       "    </tr>\n",
       "    <tr>\n",
       "      <th>9</th>\n",
       "      <td>1473</td>\n",
       "      <td>http://www.imdb.com/title/tt0828154/usercomments</td>\n",
       "      <td>Bear in mind, any film (let alone documentary)...</td>\n",
       "      <td>POS</td>\n",
       "    </tr>\n",
       "  </tbody>\n",
       "</table>\n",
       "</div>"
      ],
      "text/plain": [
       "   Index                                               URL  \\\n",
       "0   3617  http://www.imdb.com/title/tt0210075/usercomments   \n",
       "1   3671  http://www.imdb.com/title/tt0337640/usercomments   \n",
       "2   3157  http://www.imdb.com/title/tt0303549/usercomments   \n",
       "3    660  http://www.imdb.com/title/tt0716825/usercomments   \n",
       "4    265  http://www.imdb.com/title/tt0182225/usercomments   \n",
       "5   4027  http://www.imdb.com/title/tt0347779/usercomments   \n",
       "6   5820  http://www.imdb.com/title/tt0095655/usercomments   \n",
       "7   1574  http://www.imdb.com/title/tt0298131/usercomments   \n",
       "8  10668  http://www.imdb.com/title/tt0088915/usercomments   \n",
       "9   1473  http://www.imdb.com/title/tt0828154/usercomments   \n",
       "\n",
       "                                                Text Sentiment  \n",
       "0  Girlfight follows a project dwelling New York ...       POS  \n",
       "1  Hollywood North is an euphemism from the movie...       POS  \n",
       "2  That '70s Show is definitely the funniest show...       POS  \n",
       "3  9/10- 30 minutes of pure holiday terror. Okay,...       POS  \n",
       "4  A series of random, seemingly insignificant th...       POS  \n",
       "5  A very good adaptation of the novel by amrita ...       POS  \n",
       "6  Ah, Moonwalker, I'm a huge Michael Jackson fan...       POS  \n",
       "7  Although the beginning of the movie in New Yor...       POS  \n",
       "8  As many reviewers here have noted, the film ve...       POS  \n",
       "9  Bear in mind, any film (let alone documentary)...       POS  "
      ]
     },
     "execution_count": 2,
     "metadata": {},
     "output_type": "execute_result"
    }
   ],
   "source": [
    "data=pd.read_csv('IMDb-sample.csv',encoding='unicode_escape') #读入数据\n",
    "data.info()  #查看数据信息\n",
    "print(data['Sentiment'].value_counts())\n",
    "data.head(10) "
   ]
  },
  {
   "cell_type": "markdown",
   "metadata": {},
   "source": [
    "## 词形还原 "
   ]
  },
  {
   "cell_type": "code",
   "execution_count": 3,
   "metadata": {},
   "outputs": [],
   "source": [
    "from nltk.corpus import wordnet\n",
    "from nltk import word_tokenize, pos_tag\n",
    "from nltk.stem import WordNetLemmatizer\n",
    "\n",
    "def get_wordnet_pos(treebank_tag):\n",
    "    if treebank_tag.startswith('J'):\n",
    "        return wordnet.ADJ\n",
    "    elif treebank_tag.startswith('V'):\n",
    "        return wordnet.VERB\n",
    "    elif treebank_tag.startswith('N'):\n",
    "        return wordnet.NOUN\n",
    "    elif treebank_tag.startswith('R'):\n",
    "        return wordnet.ADV\n",
    "    else:\n",
    "        return None\n",
    "\n"
   ]
  },
  {
   "cell_type": "code",
   "execution_count": null,
   "metadata": {},
   "outputs": [],
   "source": [
    "def filter_number(string_):\n",
    "    str1=''\n",
    "    pos=True\n",
    "    all_list=[]\n",
    "    for i in range(data.shape[0]):\n",
    "        str1=data.iloc[i][2]\n",
    "        for uchar in str1:\n",
    "        # 判断是否为汉字\n",
    "            if uchar >= u'\\u4e00' and uchar<=u'\\u9fa5':\n",
    "                continue\n",
    "#          # 判断是否为数字\n",
    "#         if uchar >= u'\\u0030' and uchar<=u'\\u0039':    \n",
    "#             continue\n",
    "#         # 判断是否为英文字母\n",
    "# #         if (uchar >= u'\\u0041' and uchar<=u'\\u005a') or (uchar >= u'\\u0061' and uchar<=u'\\u007a'):     \n",
    "# #             continue\n",
    "        else:\n",
    "            str1 = str1.replace(uchar, '')\n",
    "            \n",
    "    all_list+= ['  '.join(jieba.cut(str1))]\n",
    "\n",
    "print(all_list)"
   ]
  },
  {
   "cell_type": "markdown",
   "metadata": {},
   "source": [
    "## 预处理"
   ]
  },
  {
   "cell_type": "code",
   "execution_count": 23,
   "metadata": {
    "scrolled": true
   },
   "outputs": [
    {
     "name": "stderr",
     "output_type": "stream",
     "text": [
      "C:\\Users\\yaojh\\Anaconda3\\lib\\site-packages\\pandas\\core\\indexing.py:671: SettingWithCopyWarning: \n",
      "A value is trying to be set on a copy of a slice from a DataFrame\n",
      "\n",
      "See the caveats in the documentation: https://pandas.pydata.org/pandas-docs/stable/user_guide/indexing.html#returning-a-view-versus-a-copy\n",
      "  self._setitem_with_indexer(indexer, value)\n"
     ]
    },
    {
     "data": {
      "text/html": [
       "<div>\n",
       "<style scoped>\n",
       "    .dataframe tbody tr th:only-of-type {\n",
       "        vertical-align: middle;\n",
       "    }\n",
       "\n",
       "    .dataframe tbody tr th {\n",
       "        vertical-align: top;\n",
       "    }\n",
       "\n",
       "    .dataframe thead th {\n",
       "        text-align: right;\n",
       "    }\n",
       "</style>\n",
       "<table border=\"1\" class=\"dataframe\">\n",
       "  <thead>\n",
       "    <tr style=\"text-align: right;\">\n",
       "      <th></th>\n",
       "      <th>Index</th>\n",
       "      <th>URL</th>\n",
       "      <th>Text</th>\n",
       "      <th>Sentiment</th>\n",
       "      <th>Text_words</th>\n",
       "    </tr>\n",
       "  </thead>\n",
       "  <tbody>\n",
       "    <tr>\n",
       "      <th>0</th>\n",
       "      <td>3617</td>\n",
       "      <td>http://www.imdb.com/title/tt0210075/usercomments</td>\n",
       "      <td>Girlfight follows a project dwelling New York ...</td>\n",
       "      <td>POS</td>\n",
       "      <td>[girlfight, follow, project, dwell, new, york,...</td>\n",
       "    </tr>\n",
       "    <tr>\n",
       "      <th>1</th>\n",
       "      <td>3671</td>\n",
       "      <td>http://www.imdb.com/title/tt0337640/usercomments</td>\n",
       "      <td>Hollywood North is an euphemism from the movie...</td>\n",
       "      <td>POS</td>\n",
       "      <td>[hollywood, north, euphemism, movie, industry,...</td>\n",
       "    </tr>\n",
       "    <tr>\n",
       "      <th>2</th>\n",
       "      <td>3157</td>\n",
       "      <td>http://www.imdb.com/title/tt0303549/usercomments</td>\n",
       "      <td>That '70s Show is definitely the funniest show...</td>\n",
       "      <td>POS</td>\n",
       "      <td>[show, definitely, funny, show, currently, tv,...</td>\n",
       "    </tr>\n",
       "    <tr>\n",
       "      <th>3</th>\n",
       "      <td>660</td>\n",
       "      <td>http://www.imdb.com/title/tt0716825/usercomments</td>\n",
       "      <td>9/10- 30 minutes of pure holiday terror. Okay,...</td>\n",
       "      <td>POS</td>\n",
       "      <td>[minute, pure, holiday, terror, okay, scary, s...</td>\n",
       "    </tr>\n",
       "    <tr>\n",
       "      <th>4</th>\n",
       "      <td>265</td>\n",
       "      <td>http://www.imdb.com/title/tt0182225/usercomments</td>\n",
       "      <td>A series of random, seemingly insignificant th...</td>\n",
       "      <td>POS</td>\n",
       "      <td>[series, random, seemingly, insignificant, the...</td>\n",
       "    </tr>\n",
       "    <tr>\n",
       "      <th>5</th>\n",
       "      <td>4027</td>\n",
       "      <td>http://www.imdb.com/title/tt0347779/usercomments</td>\n",
       "      <td>A very good adaptation of the novel by amrita ...</td>\n",
       "      <td>POS</td>\n",
       "      <td>[good, adaptation, novel, amrita, pritam, urmi...</td>\n",
       "    </tr>\n",
       "    <tr>\n",
       "      <th>6</th>\n",
       "      <td>5820</td>\n",
       "      <td>http://www.imdb.com/title/tt0095655/usercomments</td>\n",
       "      <td>Ah, Moonwalker, I'm a huge Michael Jackson fan...</td>\n",
       "      <td>POS</td>\n",
       "      <td>[ah, moonwalker, im, huge, michael, jackson, f...</td>\n",
       "    </tr>\n",
       "    <tr>\n",
       "      <th>7</th>\n",
       "      <td>1574</td>\n",
       "      <td>http://www.imdb.com/title/tt0298131/usercomments</td>\n",
       "      <td>Although the beginning of the movie in New Yor...</td>\n",
       "      <td>POS</td>\n",
       "      <td>[although, begin, movie, new, york, take, long...</td>\n",
       "    </tr>\n",
       "    <tr>\n",
       "      <th>8</th>\n",
       "      <td>10668</td>\n",
       "      <td>http://www.imdb.com/title/tt0088915/usercomments</td>\n",
       "      <td>As many reviewers here have noted, the film ve...</td>\n",
       "      <td>POS</td>\n",
       "      <td>[many, reviewer, note, film, version, differs,...</td>\n",
       "    </tr>\n",
       "    <tr>\n",
       "      <th>9</th>\n",
       "      <td>1473</td>\n",
       "      <td>http://www.imdb.com/title/tt0828154/usercomments</td>\n",
       "      <td>Bear in mind, any film (let alone documentary)...</td>\n",
       "      <td>POS</td>\n",
       "      <td>[bear, mind, film, let, alone, documentary, as...</td>\n",
       "    </tr>\n",
       "  </tbody>\n",
       "</table>\n",
       "</div>"
      ],
      "text/plain": [
       "   Index                                               URL  \\\n",
       "0   3617  http://www.imdb.com/title/tt0210075/usercomments   \n",
       "1   3671  http://www.imdb.com/title/tt0337640/usercomments   \n",
       "2   3157  http://www.imdb.com/title/tt0303549/usercomments   \n",
       "3    660  http://www.imdb.com/title/tt0716825/usercomments   \n",
       "4    265  http://www.imdb.com/title/tt0182225/usercomments   \n",
       "5   4027  http://www.imdb.com/title/tt0347779/usercomments   \n",
       "6   5820  http://www.imdb.com/title/tt0095655/usercomments   \n",
       "7   1574  http://www.imdb.com/title/tt0298131/usercomments   \n",
       "8  10668  http://www.imdb.com/title/tt0088915/usercomments   \n",
       "9   1473  http://www.imdb.com/title/tt0828154/usercomments   \n",
       "\n",
       "                                                Text Sentiment  \\\n",
       "0  Girlfight follows a project dwelling New York ...       POS   \n",
       "1  Hollywood North is an euphemism from the movie...       POS   \n",
       "2  That '70s Show is definitely the funniest show...       POS   \n",
       "3  9/10- 30 minutes of pure holiday terror. Okay,...       POS   \n",
       "4  A series of random, seemingly insignificant th...       POS   \n",
       "5  A very good adaptation of the novel by amrita ...       POS   \n",
       "6  Ah, Moonwalker, I'm a huge Michael Jackson fan...       POS   \n",
       "7  Although the beginning of the movie in New Yor...       POS   \n",
       "8  As many reviewers here have noted, the film ve...       POS   \n",
       "9  Bear in mind, any film (let alone documentary)...       POS   \n",
       "\n",
       "                                          Text_words  \n",
       "0  [girlfight, follow, project, dwell, new, york,...  \n",
       "1  [hollywood, north, euphemism, movie, industry,...  \n",
       "2  [show, definitely, funny, show, currently, tv,...  \n",
       "3  [minute, pure, holiday, terror, okay, scary, s...  \n",
       "4  [series, random, seemingly, insignificant, the...  \n",
       "5  [good, adaptation, novel, amrita, pritam, urmi...  \n",
       "6  [ah, moonwalker, im, huge, michael, jackson, f...  \n",
       "7  [although, begin, movie, new, york, take, long...  \n",
       "8  [many, reviewer, note, film, version, differs,...  \n",
       "9  [bear, mind, film, let, alone, documentary, as...  "
      ]
     },
     "execution_count": 23,
     "metadata": {},
     "output_type": "execute_result"
    }
   ],
   "source": [
    "from nltk.corpus import stopwords\n",
    "wnl = nltk.stem.WordNetLemmatizer()\n",
    "data['Text_words']=''\n",
    "for i in range(data.shape[0]):\n",
    "\n",
    "    text=re.sub(r'[^\\w\\s]','',data.iloc[i][2])  #正则表达式，去除标点符号\n",
    "    text=text.lower()   \n",
    "    tokenize = nltk.word_tokenize(text) #英文分词\n",
    "    tokenize=[w for w in tokenize if w.isalpha() ]  #删除数字\n",
    "    tokenize_text = [w for w in tokenize if not w in stopwords.words('english')] #去除停用词\n",
    "    pos_tags=nltk.pos_tag(tokenize_text)#词性标注\n",
    "    words_lemma=[]\n",
    "    for pos in pos_tags:\n",
    "        wordnet_pos = get_wordnet_pos(pos[1]) or wordnet.NOUN\n",
    "        words_lemma.append(wnl.lemmatize(pos[0], pos=wordnet_pos)) # 词形还原 \n",
    "    data['Text_words'].iloc[i]=words_lemma\n",
    "data.head(10)"
   ]
  },
  {
   "cell_type": "code",
   "execution_count": 21,
   "metadata": {},
   "outputs": [
    {
     "name": "stdout",
     "output_type": "stream",
     "text": [
      "['girlfight follow project dwell new york high school girl sense futility world amateur box find self esteem purpose much although film box box film much almost smell sweat technically artistically good shoot sense honesty reality girlfight chick flick rocky rather human drama even viewer dont know box able connect withgirlfight follow project dwell new york high school girl sense futility world amateur box find self esteem purpose much', 'hollywood north euphemism movie industry go canada make movie tax break cheaper cost civilized city like toronto case later vancouver peter obrian director probably saw lot invader california movie seem right way deal arrive personality try capitalize economics canada presentedneedless say moon lantern successful novel write canadian author turn flight bogota nothing original film great egotistical hasbeen michael baytes obsess happen iran offer lead part turn disasterthe film seem say many cook spoil broth seem case ultimate product save producer bobby myers help sandy ryan around make documentary film shot toronto part film transform cohesive movie lastthe film process hilarious act general goodhollywood north euphemism movie industry go canada make movie tax break cheaper cost civilized city like toronto case later vancouver', 'show definitely funny show currently tv start watch two half year ago soon saw could tell great show like character personal favorite fez kelso leo also awesome character really hope come back he hilarious classic fez go son bitch kelso yell burn always make laugh great character always something funny say jackie hot another reason watch show start really good look damn somewhere around season get really hot ive see episode like time still hilarious one show watch still laugh much first time saw cast classic almost everyone funny many show funny character sad see show end next year go air one best show everthat show definitely funny show currently tv', 'minute pure holiday terror okay scary sure funthe crypt keeper john kassir tale tale holiday fear give u christmas goose gossebumps bwahahahahha really careful axe santa scary christmas happy new fear okay ill stopokay story greedy wife best screamer world mary ellen trainor kill husband marshall bell coach get towel whip death anoes money plan ruin crazy killer dress santa suit larry dr giggle drake come wayif look youtube watch free already see third view havent see suggest minute pure holiday terror', 'series random seemingly insignificant theft sister board house miss lemon quite agitate ring light bulb rucksack light stethoscope shoe â seem rhyme reason miss lemon ask employer great belgian detective hercule poirot look matter poirot see something far sinister miss lemon could imagine poirots fear confirm one student live boarding house find murder poirot bring killer justicehickory dickory dock solid spectacular entry long run poirot series appreciate faithful script agatha christie original story realize certain liberty take appreciate effort nonetheless major point mystery â petty theft board house student rip rucksack course poirots ability see something sinister go actually happen exception cast student almost picture damian lewis jessica lloyd standout among group mush always enjoy david suchets poirot get real kick episode phillip jackson inspector japp pauline morans miss lemon episode real treat miss lemon get screen time usual finally enjoy use ever present mouse observer activity hostel fun little play hickory dickory dock titlei realize rewatching hickory dickory dock tremendous influence agatha christie work highly stylized italian mystery film gialli take murder mr nicoletis example bump graphic nature scene would something straight early giallo fact entire plot hickory dickory dock could use giallo convoluted interesting enough workeda series random seemingly insignificant theft sister board house miss lemon quite agitate', 'good adaptation novel amrita pritam urmila manoj bajpai give bestthere natural flair movie felt right look like bollywood finally give away glamor quality artist perform screencontent wise movie depict much exactly happen partition show suffering particular family also show trust one life go beyond religionthe best part make drama lot tear shed melodramai simply love ita good adaptation novel amrita pritam', 'ah moonwalker im huge michael jackson fan grow music thriller actually first music video ever saw apparently believe time michael jackson like god people time woman faint sight really faint see sight sorry michael moonwalker start tribute michael success time right release famous bad album record break first album top ten single michael incredible artist doubt write sings dance come act keep story straight audienceâ muchwe start pretty simple jackson music life career success mania big star world michael jackson later jackson style gangster use power crime figure protect child jackson allow near child cut play field child dog dog run away search jackson child uncover lair mr big frankie lideo drug deal mobster army henchman want get entire populace planet earth addict drug start child mr big discovers jackson child escape jackson tell child meet club turn haunt nightclub abandon since story go back mobster attack jackson reveal jackson actually magical gangster draw power shoot star one pass club jackson transforms sport car mow several mr bigs henchman story pick child club first child afraid jackson appear scary atmosphere club transforms child find back club fill zoot suiters swing dancer jackson participate danceoff club member serf music video smooth criminal climax song mr big lay siege club kidnap one child katie jackson follow back bigs lair end surrounded henchman mr big appear mentally torture jackson threaten inject katie highly addictive narcotic katie manages grab joe pescis glass get free inject mr big decides he enough order men kill katie finish jackson shoot star fly jackson transforms giant robot kill mr bigs soldier yup ummm want weirdness watch moviemoonwalker fun first half hour see michael success hard work really make fan appreciate mostly hype album yeah love spends first minute praise awesome go song call leave alone kind hypocritical great song small turn event skip crummy act story incredibly weak villain spell name loud michael katie spy lol michael transformer sudden villain big monster plan make kid high also villain sort massive ray gun would make marvin martian blush one new thing incredible movie give u new video smooth criminal music video perfection choreograph set song smooth style michael always go beyond perfection smooth criminal incredible love moonwalker kid still watch fun day best movie mean pretty silly good youre michael jackson fan moonwalker im huge michael jackson fan grow music thriller actually first music video ever saw apparently', 'although begin movie new york take long movie must see people like genre hannah go berlin visit old woman help mother war movie get much much betterthe movie bit like pianist really comparedalthough begin movie new york take long movie must see people like genre', 'many reviewer note film version differs quite bit stage version story never see stage version story therefore favorable review film many reviewer perhaps richard attenborough best choice director film film still entertain account several dancer try make big time choreographer michael douglas show film right select famous actor performer wind final tryout group way attention focus dancer movement individual story struggle unfold marathon day tryouts douglas also probably best choice part apparently songs cut favor new one backstage clichãridden story romantic liaison dancer choreographer add say fairness weak part film repeat intrusion cassie make tryout appear mirror almost desperate plea one often make engage artistic profession absence talent andor luck however aspect film do death past curious see tire old shoe kick heel revelation dancer begin promisingly enough number plod little various point dancer tell story frankly story differ little real life folk never get chance like starsas many reviewer note film version differs quite bit stage version story', 'bear mind film let alone documentary asserts kind truth generate adverse proportional amount cynicism suggestion search truth already meaningless already master psychology film captain soul doubt find movie redundant already know everything know congratsfor u minority like find pervert guide cinmeamostly brilliant worth watch interested movie psychology modern philosophya little like scott mclouds understand comic director sophie fiennes intergrates slovene philosopher psychologist social critic slavoj zizek right many film specif scenes discus cover image birdszizek take boat recreate shotlacanian psychoanalysis necessarily scream even great funbut like movie knowledge lacanian psychoanalysis help symbolic real imaginary term get throw around little loosely first scene zizek select analyze make remarkably clear always abstract subject fact probably well familiarity film he discuss terminology use become clear film go onwhy love film isnt pick great film analyze reveals great truths lacan show practical clever manner film psychology default philosophy meetwhy sound music kinda fascistic short cut class alienation bird attack bird learn mind alien resurrection planet solaris want psycho marx brother hell david lynch get across movie moviewell zizek ideasthe role voice excorcist star war revenge sith maybe movie strongest lucid moment get feminine sexual subjectivity begin wonderat one point zizek admit feel flower kind decorative vagina dentatta disgust hidden child jokingly seem butanyway fascinate documentary anyone ever see movie think meant something literally state make attempt seeand anyone interested slavoj zizek must well much less dry reality virtual direct zizek two pseudodocs elvis contemporary cultural criticism dub english speak worldthe pervert guide cinema role sex cinema zizek claim cinema ultimate pervert art teach desire desire contemporary art form allow desire articulate film find reality cinema find cinema reality important excite hard find bit long well worth trouble one stimulating movie watch experience ive ever hadbear mind film let alone documentary asserts kind truth generate adverse proportional amount cynicism suggestion search truth already meaningless already master psychology film captain soul doubt find movie redundant already know everything know', '', '', '', '', '', '', '', '', '', '', '', '', '', '', '', '', '', '', '', '', '', '', '', '', '', '', '', '', '', '', '', '', '', '', '', '', '', '', '', '', '', '', '', '', '', '', '', '', '', '', '', '', '', '', '', '', '', '', '', '', '', '', '', '', '', '', '', '', '', '', '', '', '', '', '', '', '', '', '', '', '', '', '', '', '', '', '', '', '', '', '', '', '', '', '', '', '', '', '', '', '', '', '', '', '', '', '', '', '', '', '', '', '', '', '', '', '', '', '', '', '', '', '', '', '', '', '', '', '', '', '', '', '', '', '', '', '', '', '', '', '', '', '', '', '', '', '', '', '', '', '', '', '', '', '', '', '', '', '', '', '', '', '', '', '', '', '', '', '', '', '', '', '', '', '', '', '', '', '', '', '', '', '', '', '', '', '', '', '', '', '', '', '', '', '', '', '', '', '', '', '', '', '', '', '', '', '', '', '', '', '', '', '', '', '', '', '', '', '', '', '', '', '', '', '', '', '', '', '', '', '', '', '', '', '', '', '', '', '', '', '', '', '', '', '', '', '', '', '', '', '', '', '', '', '', '', '', '', '', '', '', '', '', '', '', '', '', '', '', '', '', '', '', '', '', '', '', '', '', '', '', '', '', '', '', '', '', '', '', '', '', '', '', '', '', '', '', '', '', '', '', '', '', '', '', '', '', '', '', '', '', '', '', '', '', '', '', '', '', '', '', '', '', '', '', '', '', '', '', '', '', '', '', '', '', '', '', '', '', '', '', '', '', '', '', '', '', '', '', '', '', '', '', '', '', '', '', '', '', '', '', '', '', '', '', '', '', '', '', '', '', '', '', '', '', '', '', '', '', '', '', '', '', '', '', '', '', '', '', '', '', '', '', '', '', '', '', '', '', '', '', '', '', '', '', '', '', '', '', '', '', '', '', '', '', '', '', '', '', '', '', '', '', '', '', '', '', '', '', '', '', '', '', '', '', '', '', '', '', '', '', '', '', '', '', '', '', '', '', '', '', '', '', '', '', '', '', '', '', '', '', '', '', '', '', '', '', '', '', '', '', '', '', '', '', '', '', '', '', '', '', '', '', '', '', '', '', '', '', '', '', '', '', '', '', '', '', '', '', '', '', '', '', '', '', '', '', '', '', '', '', '', '', '', '', '', '', '', '', '', '', '', '', '', '', '', '', '', '', '', '', '', '', '', '', '', '', '', '', '', '', '', '', '', '', '', '', '', '', '', '', '', '', '', '', '', '', '', '', '', '', '', '', '', '', '', '', '', '', '', '', '', '', '', '', '', '', '', '', '', '', '', '', '', '', '', '', '', '', '', '', '', '', '', '', '', '', '', '', '', '', '', '', '', '', '', '', '', '', '', '', '', '', '', '', '', '', '', '', '', '', '', '', '', '', '', '', '', '', '', '', '', '', '', '', '', '', '', '', '', '', '', '', '', '', '', '', '', '', '', '', '', '', '', '', '', '', '', '', '', '', '', '', '', '', '', '', '', '', '', '', '', '', '', '', '', '', '', '', '', '', '', '', '', '', '', '', '', '', '', '', '', '', '', '', '', '', '', '', '', '', '', '', '', '', '', '', '', '', '', '', '', '', '', '', '', '', '', '', '', '', '', '', '', '', '', '', '', '', '', '', '', '', '', '', '', '', '', '', '', '', '', '', '', '', '', '', '', '', '', '', '', '', '', '', '', '', '', '', '', '', '', '', '', '', '', '', '', '', '', '', '', '', '', '', '', '', '', '', '', '', '', '', '', '', '', '', '', '', '', '', '', '', '', '', '', '', '', '', '', '', '', '', '', '', '', '', '', '', '', '', '', '', '', '', '', '', '', '', '', '', '', '', '', '', '', '', '', '', '', '', '', '', '', '', '', '', '', '', '', '', '', '', '', '', '', '', '', '', '', '', '', '', '', '', '', '', '', '', '', '', '', '', '', '', '', '', '', '', '', '', '', '', '', '', '', '', '', '', '', '', '', '', '', '', '', '', '', '', '', '', '', '', '', '', '', '', '', '', '', '', '', '', '', '', '', '', '', '', '', '', '', '', '', '', '', '', '', '', '', '', '', '', '', '', '', '', '', '', '', '', '', '', '', '', '', '', '', '', '', '', '', '', '', '', '', '', '', '', '', '', '', '', '', '', '', '', '', '', '', '', '', '', '', '', '', '', '', '', '', '', '', '', '', '', '', '', '', '', '', '', '', '', '', '', '', '', '', '', '', '', '', '', '', '', '', '', '', '', '', '', '', '', '', '', '', '', '', '', '', '', '', '', '', '', '', '', '', '', '', '', '', '', '', '', '', '', '', '', '', '', '', '', '', '', '', '', '', '', '', '', '', '', '', '', '', '', '', '', '', '', '', '', '', '', '', '', '', '', '', '', '', '', '', '', '', '', '', '', '', '', '', '', '', '', '', '', '', '', '', '', '', '', '', '', '', '', '', '', '', '', '', '', '', '', '', '', '', '', '', '', '', '', '', '', '', '', '', '', '', '', '', '', '', '', '', '', '', '', '', '', '', '', '', '', '', '', '', '', '', '', '', '', '', '', '', '', '', '', '', '', '', '', '', '', '', '', '', '', '', '', '', '', '', '', '', '', '', '', '', '', '', '', '', '', '', '', '', '', '', '', '', '', '', '', '', '', '', '', '', '', '', '', '', '', '', '', '', '', '', '', '', '', '', '', '', '', '', '', '', '', '', '', '', '', '', '', '', '', '', '', '', '', '', '', '', '', '', '', '', '', '', '', '', '', '', '', '', '', '', '', '', '', '', '', '', '', '', '', '', '', '', '', '', '', '', '', '', '', '', '', '', '', '', '', '', '', '', '', '', '', '', '', '', '', '', '', '', '', '', '', '', '', '', '', '', '', '', '', '', '', '', '', '', '', '', '', '', '', '', '', '', '', '', '', '', '', '', '', '', '', '', '', '', '', '', '', '', '', '', '', '', '', '', '', '', '', '', '', '', '', '', '', '', '', '', '', '', '', '', '', '', '', '', '', '', '', '', '', '', '', '', '', '', '', '', '', '', '', '', '', '', '', '', '', '', '', '', '', '', '', '', '', '', '', '', '', '', '', '', '', '', '', '', '', '', '', '', '', '', '', '', '', '', '', '', '', '', '', '', '', '', '', '', '', '', '', '', '', '', '', '', '', '', '', '', '', '', '', '', '', '', '', '', '', '', '', '', '', '', '', '', '', '', '', '', '', '', '', '', '', '', '', '', '', '', '', '', '', '', '', '', '', '', '', '', '', '', '', '', '', '', '', '', '', '', '', '', '', '', '', '', '', '', '', '', '', '', '', '', '', '', '', '', '', '', '', '', '', '', '', '', '', '', '', '', '', '', '', '', '', '', '', '', '', '', '', '', '', '', '', '', '', '', '', '', '', '', '', '', '', '', '', '', '', '', '', '', '', '', '', '', '', '', '', '', '', '', '', '', '', '', '', '', '', '', '', '', '', '', '', '', '', '', '', '', '', '', '', '', '', '', '', '', '', '', '', '', '', '', '', '', '', '', '', '', '', '', '', '', '', '', '', '', '', '', '', '', '', '', '', '', '', '', '', '', '', '', '', '', '', '', '', '', '', '', '', '', '', '', '', '', '', '', '', '', '', '', '', '', '', '', '', '', '', '', '', '', '', '', '', '', '', '', '', '', '', '', '', '', '', '', '', '', '', '', '', '', '', '', '', '', '', '', '', '', '', '', '', '', '', '', '', '', '', '', '', '', '', '', '', '', '', '', '', '', '', '', '', '', '', '', '', '', '', '', '', '', '', '', '', '', '', '', '', '', '', '', '', '', '', '', '', '', '', '', '', '', '', '', '', '', '', '', '', '', '', '', '', '', '', '', '', '', '', '', '', '', '', '', '', '', '', '', '', '', '', '', '', '', '', '', '', '', '', '', '', '', '', '', '', '', '', '', '', '', '', '', '', '', '', '', '', '', '', '', '', '', '', '', '', '', '', '', '', '', '', '', '', '', '', '', '', '', '', '', '', '', '', '', '', '', '', '', '', '', '', '', '', '', '', '', '', '', '', '', '', '', '', '', '', '', '', '', '', '', '', '', '', '', '', '', '', '', '', '', '', '', '', '', '', '', '', '', '', '', '', '', '', '', '', '', '', '', '', '', '', '', '', '', '', '', '', '', '', '', '', '', '', '', '', '', '', '', '', '', '', '', '', '', '', '', '', '', '', '', '', '', '', '', '', '', '', '', '', '', '', '', '', '', '', '', '', '', '', '', '', '', '', '', '', '', '', '', '', '', '', '', '', '', '', '', '', '', '', '', '', '', '', '', '', '', '', '', '', '', '', '', '', '', '', '', '', '', '', '', '', '', '', '', '', '', '', '', '', '', '', '', '', '', '', '', '', '', '', '', '', '', '', '', '', '', '', '', '', '', '', '', '', '', '', '', '', '', '', '', '', '', '', '', '', '', '', '', '', '', '', '', '', '', '', '', '', '', '', '', '', '', '', '']\n"
     ]
    }
   ],
   "source": [
    "# 准备语料库\n",
    "corpus=[]\n",
    "for i in range (data.shape[0]):\n",
    "    corpus.append(re.sub(r'[^\\w\\s]','',str(data['Text_words'][i])))\n",
    "print(corpus)"
   ]
  },
  {
   "cell_type": "code",
   "execution_count": 22,
   "metadata": {
    "scrolled": true
   },
   "outputs": [
    {
     "name": "stdout",
     "output_type": "stream",
     "text": [
      "['abandon', 'abandon since', 'ability', 'ability see', 'able', 'able connect', 'absence', 'absence talent', 'abstract', 'abstract subject', 'account', 'account several', 'across', 'across movie', 'act', 'act general', 'act keep', 'act story', 'activity', 'activity hostel', 'actor', 'actor performer', 'actually', 'actually first', 'actually happen', 'actually magical', 'adaptation', 'adaptation novel', 'add', 'add say', 'addict', 'addict drug', 'addictive', 'addictive narcotic', 'admit', 'admit feel', 'adverse', 'adverse proportional', 'afraid', 'afraid jackson', 'agatha', 'agatha christie', 'agitate', 'agitate ring', 'ago', 'ago soon', 'ah', 'ah moonwalker', 'air', 'air one', 'album', 'album record', 'album top', 'album yeah', 'alien', 'alien resurrection', 'alienation', 'alienation bird', 'allow', 'allow desire', 'allow near', 'almost', 'almost desperate', 'almost everyone', 'almost picture', 'almost smell', 'alone', 'alone documentary', 'alone kind', 'already', 'already know', 'already master', 'already meaningless', 'already see', 'also', 'also awesome', 'also probably', 'also show', 'also villain', 'although', 'although begin', 'although film', 'always', 'always abstract', 'always enjoy', 'always go', 'always make', 'always something', 'amateur', 'amateur box', 'among', 'among group', 'amount', 'amount cynicism', 'amrita', 'amrita pritam', 'analyze', 'analyze make', 'analyze reveals', 'andor', 'andor luck', 'anoes', 'anoes money', 'another', 'another reason', 'anyone', 'anyone ever', 'anyone interested', 'apparently', 'apparently believe', 'apparently songs', 'appear', 'appear mentally', 'appear mirror', 'appear scary', 'appreciate', 'appreciate effort', 'appreciate faithful', 'appreciate mostly', 'army', 'army henchman', 'around', 'around little', 'around make', 'around season', 'arrive', 'arrive personality', 'art', 'art form', 'art teach', 'articulate', 'articulate film', 'artist', 'artist doubt', 'artist perform', 'artistic', 'artistic profession', 'artistically', 'artistically good', 'ask', 'ask employer', 'aspect', 'aspect film', 'asserts', 'asserts kind', 'atmosphere', 'atmosphere club', 'attack', 'attack bird', 'attack jackson', 'attempt', 'attempt seeand', 'attenborough', 'attenborough best', 'attention', 'attention focus', 'audienceâ', 'audienceâ muchwe', 'author', 'author turn', 'away', 'away glamor', 'away search', 'awesome', 'awesome character', 'awesome go', 'axe', 'axe santa', 'back', 'back bigs', 'back club', 'back he', 'back mobster', 'backstage', 'backstage clichãridden', 'bad', 'bad album', 'bajpai', 'bajpai give', 'baytes', 'baytes obsess', 'bear', 'bear mind', 'become', 'become clear', 'begin', 'begin movie', 'begin promisingly', 'begin wonderat', 'belgian', 'belgian detective', 'believe', 'believe time', 'bell', 'bell coach', 'berlin', 'berlin visit', 'best', 'best choice', 'best movie', 'best part', 'best screamer', 'best show', 'bestthere', 'bestthere natural', 'betterthe', 'betterthe movie', 'beyond', 'beyond perfection', 'beyond religionthe', 'big', 'big appear', 'big decides', 'big discovers', 'big frankie', 'big lay', 'big monster', 'big star', 'big time', 'bigs', 'bigs henchman', 'bigs lair', 'bigs soldier', 'bird', 'bird attack', 'bird learn', 'birdszizek', 'birdszizek take', 'bit', 'bit like', 'bit long', 'bit stage', 'bitch', 'bitch kelso', 'blush', 'blush one', 'board', 'board house', 'boarding', 'boarding house', 'boat', 'boat recreate', 'bobby', 'bobby myers', 'bogota', 'bogota nothing', 'bollywood', 'bollywood finally', 'box', 'box able', 'box box', 'box film', 'box find', 'break', 'break cheaper', 'break first', 'brilliant', 'brilliant worth', 'bring', 'bring killer', 'broth', 'broth seem', 'brother', 'brother hell', 'bulb', 'bulb rucksack', 'bump', 'bump graphic', 'burn', 'burn always', 'butanyway', 'butanyway fascinate', 'bwahahahahha', 'bwahahahahha really', 'california', 'california movie', 'call', 'call leave', 'canada', 'canada make', 'canada presentedneedless', 'canadian', 'canadian author', 'capitalize', 'capitalize economics', 'captain', 'captain soul', 'car', 'car mow', 'career', 'career success', 'careful', 'careful axe', 'case', 'case later', 'case ultimate', 'cassie', 'cassie make', 'cast', 'cast classic', 'cast student', 'certain', 'certain liberty', 'chance', 'chance like', 'character', 'character always', 'character personal', 'character really', 'character sad', 'cheaper', 'cheaper cost', 'chick', 'chick flick', 'child', 'child afraid', 'child club', 'child cut', 'child dog', 'child escape', 'child find', 'child jackson', 'child jokingly', 'child katie', 'child meet', 'child mr', 'child uncover', 'choice', 'choice director', 'choice part', 'choreograph', 'choreograph set', 'choreographer', 'choreographer add', 'choreographer michael', 'christie', 'christie original', 'christie work', 'christmas', 'christmas goose', 'christmas happy', 'cinema', 'cinema find', 'cinema reality', 'cinema role', 'cinema ultimate', 'cinema zizek', 'cinmeamostly', 'cinmeamostly brilliant', 'city', 'city like', 'civilized', 'civilized city', 'claim', 'claim cinema', 'class', 'class alienation', 'classic', 'classic almost', 'classic fez', 'clear', 'clear always', 'clear film', 'clever', 'clever manner', 'clichãridden', 'clichãridden story', 'climax', 'climax song', 'club', 'club fill', 'club first', 'club jackson', 'club kidnap', 'club member', 'club transforms', 'club turn', 'coach', 'coach get', 'cohesive', 'cohesive movie', 'come', 'come act', 'come back', 'come wayif', 'comic', 'comic director', 'comparedalthough', 'comparedalthough begin', 'confirm', 'confirm one', 'congratsfor', 'congratsfor minority', 'connect', 'connect withgirlfight', 'contemporary', 'contemporary art', 'contemporary cultural', 'convoluted', 'convoluted interesting', 'cook', 'cook spoil', 'cost', 'cost civilized', 'could', 'could imagine', 'could tell', 'could use', 'course', 'course poirots', 'cover', 'cover image', 'crazy', 'crazy killer', 'crime', 'crime figure', 'criminal', 'criminal climax', 'criminal incredible', 'criminal music', 'critic', 'critic slavoj', 'criticism', 'criticism dub', 'crummy', 'crummy act', 'crypt', 'crypt keeper', 'cultural', 'cultural criticism', 'curious', 'curious see', 'currently', 'currently tv', 'cut', 'cut class', 'cut favor', 'cut play', 'cynicism', 'cynicism suggestion', 'damian', 'damian lewis', 'damn', 'damn somewhere', 'dance', 'dance come', 'danceoff', 'danceoff club', 'dancer', 'dancer begin', 'dancer choreographer', 'dancer jackson', 'dancer movement', 'dancer tell', 'dancer try', 'david', 'david lynch', 'david suchets', 'day', 'day best', 'day tryouts', 'deal', 'deal arrive', 'deal mobster', 'death', 'death anoes', 'death past', 'decides', 'decides he', 'decorative', 'decorative vagina', 'default', 'default philosophy', 'definitely', 'definitely funny', 'dentatta', 'dentatta disgust', 'depict', 'depict much', 'desire', 'desire articulate', 'desire contemporary', 'desire desire', 'desperate', 'desperate plea', 'detective', 'detective hercule', 'dickory', 'dickory dock', 'differ', 'differ little', 'differs', 'differs quite', 'direct', 'direct zizek', 'director', 'director film', 'director probably', 'director sophie', 'disasterthe', 'disasterthe film', 'discovers', 'discovers jackson', 'discus', 'discus cover', 'discuss', 'discuss terminology', 'disgust', 'disgust hidden', 'do', 'do death', 'dock', 'dock could', 'dock solid', 'dock titlei', 'dock tremendous', 'documentary', 'documentary anyone', 'documentary asserts', 'documentary film', 'dog', 'dog dog', 'dog run', 'dont', 'dont know', 'doubt', 'doubt find', 'doubt write', 'douglas', 'douglas also', 'douglas show', 'dr', 'dr giggle', 'drake', 'drake come', 'drama', 'drama even', 'drama lot', 'draw', 'draw power', 'dress', 'dress santa', 'drug', 'drug deal', 'drug start', 'dry', 'dry reality', 'dub', 'dub english', 'dwell', 'dwell new', 'early', 'early giallo', 'earth', 'earth addict', 'economics', 'economics canada', 'effort', 'effort nonetheless', 'egotistical', 'egotistical hasbeen', 'ellen', 'ellen trainor', 'elvis', 'elvis contemporary', 'employer', 'employer great', 'end', 'end next', 'end surrounded', 'engage', 'engage artistic', 'english', 'english speak', 'enjoy', 'enjoy david', 'enjoy use', 'enough', 'enough number', 'enough order', 'enough workeda', 'entertain', 'entertain account', 'entire', 'entire plot', 'entire populace', 'entry', 'entry long', 'episode', 'episode like', 'episode phillip', 'episode real', 'escape', 'escape jackson', 'esteem', 'esteem purpose', 'euphemism', 'euphemism movie', 'even', 'even great', 'even viewer', 'event', 'event skip', 'ever', 'ever hadbear', 'ever present', 'ever saw', 'ever see', 'everthat', 'everthat show', 'everyone', 'everyone funny', 'everything', 'everything know', 'exactly', 'exactly happen', 'example', 'example bump', 'exception', 'exception cast', 'excite', 'excite hard', 'excorcist', 'excorcist star', 'experience', 'experience ive', 'fact', 'fact entire', 'fact probably', 'faint', 'faint see', 'faint sight', 'fairness', 'fairness weak', 'faithful', 'faithful script', 'familiarity', 'familiarity film', 'family', 'family also', 'famous', 'famous actor', 'famous bad', 'fan', 'fan appreciate', 'fan grow', 'fan moonwalker', 'far', 'far sinister', 'fascinate', 'fascinate documentary', 'fascistic', 'fascistic short', 'favor', 'favor new', 'favorable', 'favorable review', 'favorite', 'favorite fez', 'fear', 'fear confirm', 'fear give', 'fear okay', 'feel', 'feel flower', 'felt', 'felt right', 'feminine', 'feminine sexual', 'fez', 'fez go', 'fez kelso', 'field', 'field child', 'fiennes', 'fiennes intergrates', 'figure', 'figure protect', 'fill', 'fill zoot', 'film', 'film analyze', 'film box', 'film captain', 'film do', 'film film', 'film find', 'film gialli', 'film go', 'film great', 'film he', 'film isnt', 'film let', 'film many', 'film much', 'film process', 'film psychology', 'film repeat', 'film right', 'film seem', 'film shot', 'film specif', 'film still', 'film transform', 'film version', 'final', 'final tryout', 'finally', 'finally enjoy', 'finally give', 'find', 'find back', 'find bit', 'find cinema', 'find movie', 'find murder', 'find pervert', 'find reality', 'find self', 'finish', 'finish jackson', 'first', 'first album', 'first child', 'first half', 'first minute', 'first music', 'first scene', 'first time', 'flair', 'flair movie', 'flick', 'flick rocky', 'flight', 'flight bogota', 'flower', 'flower kind', 'fly', 'fly jackson', 'focus', 'focus dancer', 'folk', 'folk never', 'follow', 'follow back', 'follow project', 'form', 'form allow', 'frankie', 'frankie lideo', 'frankly', 'frankly story', 'free', 'free already', 'free inject', 'fun', 'fun day', 'fun first', 'fun little', 'funbut', 'funbut like', 'funny', 'funny character', 'funny many', 'funny say', 'funny show', 'funthe', 'funthe crypt', 'futility', 'futility world', 'gangster', 'gangster draw', 'gangster use', 'general', 'general goodhollywood', 'generate', 'generate adverse', 'genre', 'genre hannah', 'get', 'get across', 'get chance', 'get entire', 'get feminine', 'get free', 'get much', 'get real', 'get really', 'get screen', 'get throw', 'get towel', 'gialli', 'gialli take', 'giallo', 'giallo convoluted', 'giallo fact', 'giant', 'giant robot', 'giggle', 'giggle drake', 'girl', 'girl sense', 'girlfight', 'girlfight chick', 'girlfight follow', 'give', 'give away', 'give bestthere', 'give christmas', 'give new', 'glamor', 'glamor quality', 'glass', 'glass get', 'go', 'go actually', 'go air', 'go back', 'go berlin', 'go beyond', 'go canada', 'go onwhy', 'go son', 'go song', 'god', 'god people', 'good', 'good adaptation', 'good look', 'good shoot', 'good youre', 'goodhollywood', 'goodhollywood north', 'goose', 'goose gossebumps', 'gossebumps', 'gossebumps bwahahahahha', 'grab', 'grab joe', 'graphic', 'graphic nature', 'great', 'great belgian', 'great character', 'great egotistical', 'great film', 'great funbut', 'great show', 'great song', 'great truths', 'greedy', 'greedy wife', 'group', 'group mush', 'group way', 'grow', 'grow music', 'guide', 'guide cinema', 'guide cinmeamostly', 'gun', 'gun would', 'hadbear', 'hadbear mind', 'half', 'half hour', 'half year', 'hannah', 'hannah go', 'happen', 'happen exception', 'happen iran', 'happen partition', 'happy', 'happy new', 'hard', 'hard find', 'hard work', 'hasbeen', 'hasbeen michael', 'haunt', 'haunt nightclub', 'havent', 'havent see', 'he', 'he discuss', 'he enough', 'he hilarious', 'heel', 'heel revelation', 'hell', 'hell david', 'help', 'help mother', 'help sandy', 'help symbolic', 'henchman', 'henchman mr', 'henchman story', 'henchman want', 'hercule', 'hercule poirot', 'hickory', 'hickory dickory', 'hidden', 'hidden child', 'high', 'high also', 'high school', 'highly', 'highly addictive', 'highly stylized', 'hilarious', 'hilarious act', 'hilarious classic', 'hilarious one', 'holiday', 'holiday fear', 'holiday terror', 'hollywood', 'hollywood north', 'honesty', 'honesty reality', 'hope', 'hope come', 'hostel', 'hostel fun', 'hot', 'hot another', 'hot ive', 'hour', 'hour see', 'house', 'house find', 'house miss', 'house student', 'however', 'however aspect', 'huge', 'huge michael', 'human', 'human drama', 'husband', 'husband marshall', 'hype', 'hype album', 'hypocritical', 'hypocritical great', 'ideasthe', 'ideasthe role', 'ill', 'ill stopokay', 'im', 'im huge', 'image', 'image birdszizek', 'imaginary', 'imaginary term', 'imagine', 'imagine poirots', 'important', 'important excite', 'incredible', 'incredible artist', 'incredible love', 'incredible movie', 'incredibly', 'incredibly weak', 'individual', 'individual story', 'industry', 'industry go', 'influence', 'influence agatha', 'inject', 'inject katie', 'inject mr', 'insignificant', 'insignificant theft', 'inspector', 'inspector japp', 'interested', 'interested movie', 'interested slavoj', 'interesting', 'interesting enough', 'intergrates', 'intergrates slovene', 'intrusion', 'intrusion cassie', 'invader', 'invader california', 'iran', 'iran offer', 'isnt', 'isnt pick', 'ita', 'ita good', 'italian', 'italian mystery', 'ive', 'ive ever', 'ive see', 'jackie', 'jackie hot', 'jackson', 'jackson actually', 'jackson allow', 'jackson appear', 'jackson child', 'jackson fan', 'jackson follow', 'jackson inspector', 'jackson later', 'jackson like', 'jackson music', 'jackson participate', 'jackson reveal', 'jackson shoot', 'jackson style', 'jackson tell', 'jackson threaten', 'jackson transforms', 'japp', 'japp pauline', 'jessica', 'jessica lloyd', 'joe', 'joe pescis', 'john', 'john kassir', 'jokingly', 'jokingly seem', 'justicehickory', 'justicehickory dickory', 'kassir', 'kassir tale', 'katie', 'katie finish', 'katie highly', 'katie jackson', 'katie manages', 'katie spy', 'keep', 'keep story', 'keeper', 'keeper john', 'kelso', 'kelso leo', 'kelso yell', 'kick', 'kick episode', 'kick heel', 'kid', 'kid high', 'kid still', 'kidnap', 'kidnap one', 'kill', 'kill husband', 'kill katie', 'kill mr', 'killer', 'killer dress', 'killer justicehickory', 'kind', 'kind decorative', 'kind hypocritical', 'kind truth', 'kinda', 'kinda fascistic', 'know', 'know box', 'know congratsfor', 'know everything', 'knowledge', 'knowledge lacanian', 'lacan', 'lacan show', 'lacanian', 'lacanian psychoanalysis', 'lair', 'lair end', 'lair mr', 'lantern', 'lantern successful', 'larry', 'larry dr', 'lastthe', 'lastthe film', 'later', 'later jackson', 'later vancouver', 'laugh', 'laugh great', 'laugh much', 'lay', 'lay siege', 'lead', 'lead part', 'learn', 'learn mind', 'leave', 'leave alone', 'lemon', 'lemon ask', 'lemon could', 'lemon episode', 'lemon get', 'lemon quite', 'leo', 'leo also', 'less', 'less dry', 'let', 'let alone', 'lewis', 'lewis jessica', 'liaison', 'liaison dancer', 'liberty', 'liberty take', 'lideo', 'lideo drug', 'life', 'life career', 'life folk', 'life go', 'light', 'light bulb', 'light stethoscope', 'like', 'like bollywood', 'like character', 'like find', 'like genre', 'like god', 'like movie', 'like pianist', 'like scott', 'like starsas', 'like time', 'like toronto', 'literally', 'literally state', 'little', 'little like', 'little loosely', 'little play', 'little real', 'little various', 'live', 'live boarding', 'lloyd', 'lloyd standout', 'lol', 'lol michael', 'long', 'long movie', 'long run', 'long well', 'look', 'look damn', 'look like', 'look matter', 'look youtube', 'loosely', 'loosely first', 'lot', 'lot invader', 'lot tear', 'loud', 'loud michael', 'love', 'love film', 'love ita', 'love moonwalker', 'love spends', 'lucid', 'lucid moment', 'luck', 'luck however', 'lynch', 'lynch get', 'magical', 'magical gangster', 'major', 'major point', 'make', 'make attempt', 'make big', 'make documentary', 'make drama', 'make engage', 'make fan', 'make kid', 'make laugh', 'make marvin', 'make movie', 'make remarkably', 'make tryout', 'manages', 'manages grab', 'mania', 'mania big', 'manner', 'manner film', 'manoj', 'manoj bajpai', 'many', 'many cook', 'many film', 'many reviewer', 'many show', 'marathon', 'marathon day', 'marshall', 'marshall bell', 'martian', 'martian blush', 'marvin', 'marvin martian', 'marx', 'marx brother', 'mary', 'mary ellen', 'massive', 'massive ray', 'master', 'master psychology', 'matter', 'matter poirot', 'maybe', 'maybe movie', 'mclouds', 'mclouds understand', 'mean', 'mean pretty', 'meaningless', 'meaningless already', 'meant', 'meant something', 'meet', 'meet club', 'meetwhy', 'meetwhy sound', 'melodramai', 'melodramai simply', 'member', 'member serf', 'men', 'men kill', 'mentally', 'mentally torture', 'michael', 'michael always', 'michael baytes', 'michael douglas', 'michael incredible', 'michael jackson', 'michael katie', 'michael moonwalker', 'michael success', 'michael transformer', 'mind', 'mind alien', 'mind film', 'minority', 'minority like', 'minute', 'minute praise', 'minute pure', 'mirror', 'mirror almost', 'miss', 'miss lemon', 'mobster', 'mobster army', 'mobster attack', 'modern', 'modern philosophya', 'moment', 'moment get', 'money', 'money plan', 'monster', 'monster plan', 'moon', 'moon lantern', 'moonwalker', 'moonwalker im', 'moonwalker kid', 'moonwalker start', 'morans', 'morans miss', 'mostly', 'mostly hype', 'mother', 'mother war', 'mouse', 'mouse observer', 'movement', 'movement individual', 'movie', 'movie bit', 'movie depict', 'movie felt', 'movie get', 'movie give', 'movie industry', 'movie knowledge', 'movie lastthe', 'movie mean', 'movie moviewell', 'movie must', 'movie new', 'movie psychology', 'movie redundant', 'movie seem', 'movie strongest', 'movie tax', 'movie think', 'movie watch', 'moviemoonwalker', 'moviemoonwalker fun', 'moviewell', 'moviewell zizek', 'mow', 'mow several', 'mr', 'mr big', 'mr bigs', 'mr nicoletis', 'much', 'much almost', 'much although', 'much betterthe', 'much exactly', 'much first', 'much less', 'much much', 'muchwe', 'muchwe start', 'murder', 'murder mr', 'murder poirot', 'mush', 'mush always', 'music', 'music kinda', 'music life', 'music thriller', 'music video', 'must', 'must see', 'must well', 'myers', 'myers help', 'mystery', 'mystery film', 'mystery petty', 'name', 'name loud', 'narcotic', 'narcotic katie', 'natural', 'natural flair', 'nature', 'nature scene', 'near', 'near child', 'necessarily', 'necessarily scream', 'never', 'never get', 'never see', 'new', 'new fear', 'new one', 'new thing', 'new video', 'new york', 'next', 'next year', 'nicoletis', 'nicoletis example', 'nightclub', 'nightclub abandon', 'nonetheless', 'nonetheless major', 'north', 'north euphemism', 'note', 'note film', 'nothing', 'nothing original', 'novel', 'novel amrita', 'novel write', 'number', 'number plod', 'obrian', 'obrian director', 'observer', 'observer activity', 'obsess', 'obsess happen', 'offer', 'offer lead', 'often', 'often make', 'okay', 'okay ill', 'okay scary', 'old', 'old shoe', 'old woman', 'one', 'one backstage', 'one best', 'one child', 'one life', 'one new', 'one often', 'one pass', 'one point', 'one show', 'one stimulating', 'one student', 'onwhy', 'onwhy love', 'order', 'order men', 'original', 'original film', 'original story', 'part', 'part apparently', 'part film', 'part make', 'part turn', 'participate', 'participate danceoff', 'particular', 'particular family', 'partition', 'partition show', 'pass', 'pass club', 'past', 'past curious', 'pauline', 'pauline morans', 'people', 'people like', 'people time', 'perfection', 'perfection choreograph', 'perfection smooth', 'perform', 'perform screencontent', 'performer', 'performer wind', 'perhaps', 'perhaps richard', 'personal', 'personal favorite', 'personality', 'personality try', 'pervert', 'pervert art', 'pervert guide', 'pescis', 'pescis glass', 'peter', 'peter obrian', 'petty', 'petty theft', 'phillip', 'phillip jackson', 'philosopher', 'philosopher psychologist', 'philosophy', 'philosophy meetwhy', 'philosophya', 'philosophya little', 'pianist', 'pianist really', 'pick', 'pick child', 'pick great', 'picture', 'picture damian', 'plan', 'plan make', 'plan ruin', 'planet', 'planet earth', 'planet solaris', 'play', 'play field', 'play hickory', 'plea', 'plea one', 'plod', 'plod little', 'plot', 'plot hickory', 'point', 'point dancer', 'point mystery', 'point zizek', 'poirot', 'poirot bring', 'poirot get', 'poirot look', 'poirot see', 'poirot series', 'poirots', 'poirots ability', 'poirots fear', 'populace', 'populace planet', 'power', 'power crime', 'power shoot', 'practical', 'practical clever', 'praise', 'praise awesome', 'present', 'present mouse', 'presentedneedless', 'presentedneedless say', 'pretty', 'pretty silly', 'pretty simple', 'pritam', 'pritam urmila', 'probably', 'probably best', 'probably saw', 'probably well', 'process', 'process hilarious', 'producer', 'producer bobby', 'product', 'product save', 'profession', 'profession absence', 'project', 'project dwell', 'promisingly', 'promisingly enough', 'proportional', 'proportional amount', 'protect', 'protect child', 'pseudodocs', 'pseudodocs elvis', 'psycho', 'psycho marx', 'psychoanalysis', 'psychoanalysis help', 'psychoanalysis necessarily', 'psychologist', 'psychologist social', 'psychology', 'psychology default', 'psychology film', 'psychology modern', 'pure', 'pure holiday', 'purpose', 'purpose much', 'quality', 'quality artist', 'quite', 'quite agitate', 'quite bit', 'random', 'random seemingly', 'rather', 'rather human', 'ray', 'ray gun', 'real', 'real imaginary', 'real kick', 'real life', 'real treat', 'reality', 'reality cinema', 'reality girlfight', 'reality important', 'reality virtual', 'realize', 'realize certain', 'realize rewatching', 'really', 'really careful', 'really comparedalthough', 'really faint', 'really good', 'really hope', 'really hot', 'really make', 'reason', 'reason miss', 'reason watch', 'record', 'record break', 'recreate', 'recreate shotlacanian', 'redundant', 'redundant already', 'release', 'release famous', 'religionthe', 'religionthe best', 'remarkably', 'remarkably clear', 'repeat', 'repeat intrusion', 'resurrection', 'resurrection planet', 'reveal', 'reveal jackson', 'reveals', 'reveals great', 'revelation', 'revelation dancer', 'revenge', 'revenge sith', 'review', 'review film', 'reviewer', 'reviewer note', 'reviewer perhaps', 'rewatching', 'rewatching hickory', 'rhyme', 'rhyme reason', 'richard', 'richard attenborough', 'right', 'right look', 'right many', 'right release', 'right select', 'right way', 'ring', 'ring light', 'rip', 'rip rucksack', 'robot', 'robot kill', 'rocky', 'rocky rather', 'role', 'role sex', 'role voice', 'romantic', 'romantic liaison', 'rucksack', 'rucksack course', 'rucksack light', 'ruin', 'ruin crazy', 'run', 'run away', 'run poirot', 'ryan', 'ryan around', 'sad', 'sad see', 'sandy', 'sandy ryan', 'santa', 'santa scary', 'santa suit', 'save', 'save producer', 'saw', 'saw apparently', 'saw cast', 'saw could', 'saw lot', 'say', 'say fairness', 'say jackie', 'say many', 'say moon', 'scary', 'scary atmosphere', 'scary christmas', 'scary sure', 'scene', 'scene would', 'scene zizek', 'scenes', 'scenes discus', 'school', 'school girl', 'scott', 'scott mclouds', 'scream', 'scream even', 'screamer', 'screamer world', 'screen', 'screen time', 'screencontent', 'screencontent wise', 'script', 'script agatha', 'search', 'search jackson', 'search truth', 'season', 'season get', 'see', 'see episode', 'see michael', 'see movie', 'see people', 'see show', 'see sight', 'see something', 'see stage', 'see suggest', 'see third', 'see tire', 'seeand', 'seeand anyone', 'seem', 'seem butanyway', 'seem case', 'seem rhyme', 'seem right', 'seem say', 'seemingly', 'seemingly insignificant', 'select', 'select analyze', 'select famous', 'self', 'self esteem', 'sense', 'sense futility', 'sense honesty', 'serf', 'serf music', 'series', 'series appreciate', 'series random', 'set', 'set song', 'several', 'several dancer', 'several mr', 'sex', 'sex cinema', 'sexual', 'sexual subjectivity', 'shed', 'shed melodramai', 'shoe', 'shoe kick', 'shoe seem', 'shoot', 'shoot sense', 'shoot star', 'short', 'short cut', 'shot', 'shot toronto', 'shotlacanian', 'shotlacanian psychoanalysis', 'show', 'show currently', 'show definitely', 'show end', 'show everthat', 'show film', 'show funny', 'show like', 'show practical', 'show start', 'show suffering', 'show trust', 'show watch', 'siege', 'siege club', 'sight', 'sight really', 'sight sorry', 'silly', 'silly good', 'simple', 'simple jackson', 'simply', 'simply love', 'since', 'since story', 'single', 'single michael', 'sings', 'sings dance', 'sinister', 'sinister go', 'sinister miss', 'sister', 'sister board', 'sith', 'sith maybe', 'skip', 'skip crummy', 'slavoj', 'slavoj zizek', 'slovene', 'slovene philosopher', 'small', 'small turn', 'smell', 'smell sweat', 'smooth', 'smooth criminal', 'smooth style', 'social', 'social critic', 'solaris', 'solaris want', 'soldier', 'soldier yup', 'solid', 'solid spectacular', 'something', 'something far', 'something funny', 'something literally', 'something sinister', 'something straight', 'somewhere', 'somewhere around', 'son', 'son bitch', 'song', 'song call', 'song mr', 'song small', 'song smooth', 'songs', 'songs cut', 'soon', 'soon saw', 'sophie', 'sophie fiennes', 'sorry', 'sorry michael', 'sort', 'sort massive', 'soul', 'soul doubt', 'sound', 'sound music', 'speak', 'speak worldthe', 'specif', 'specif scenes', 'spectacular', 'spectacular entry', 'spell', 'spell name', 'spends', 'spends first', 'spoil', 'spoil broth', 'sport', 'sport car', 'spy', 'spy lol', 'stage', 'stage version', 'standout', 'standout among', 'star', 'star fly', 'star one', 'star war', 'star world', 'starsas', 'starsas many', 'start', 'start child', 'start pretty', 'start really', 'start tribute', 'start watch', 'state', 'state make', 'stethoscope', 'stethoscope shoe', 'still', 'still entertain', 'still hilarious', 'still laugh', 'still watch', 'stimulating', 'stimulating movie', 'stopokay', 'stopokay story', 'story', 'story differ', 'story frankly', 'story go', 'story greedy', 'story incredibly', 'story never', 'story pick', 'story realize', 'story romantic', 'story straight', 'story struggle', 'story therefore', 'straight', 'straight audienceâ', 'straight early', 'strongest', 'strongest lucid', 'struggle', 'struggle unfold', 'student', 'student almost', 'student live', 'student rip', 'style', 'style gangster', 'style michael', 'stylized', 'stylized italian', 'subject', 'subject fact', 'subjectivity', 'subjectivity begin', 'success', 'success hard', 'success mania', 'success time', 'successful', 'successful novel', 'suchets', 'suchets poirot', 'sudden', 'sudden villain', 'suffering', 'suffering particular', 'suggest', 'suggest minute', 'suggestion', 'suggestion search', 'suit', 'suit larry', 'suiters', 'suiters swing', 'sure', 'sure funthe', 'surrounded', 'surrounded henchman', 'sweat', 'sweat technically', 'swing', 'swing dancer', 'symbolic', 'symbolic real', 'take', 'take appreciate', 'take boat', 'take long', 'take murder', 'tale', 'tale holiday', 'tale tale', 'talent', 'talent andor', 'tax', 'tax break', 'teach', 'teach desire', 'tear', 'tear shed', 'technically', 'technically artistically', 'tell', 'tell child', 'tell great', 'tell story', 'ten', 'ten single', 'term', 'term get', 'terminology', 'terminology use', 'terror', 'terror okay', 'theft', 'theft board', 'theft sister', 'therefore', 'therefore favorable', 'thing', 'thing incredible', 'think', 'think meant', 'third', 'third view', 'threaten', 'threaten inject', 'thriller', 'thriller actually', 'throw', 'throw around', 'time', 'time choreographer', 'time michael', 'time right', 'time saw', 'time still', 'time usual', 'time woman', 'tire', 'tire old', 'titlei', 'titlei realize', 'top', 'top ten', 'toronto', 'toronto case', 'toronto part', 'torture', 'torture jackson', 'towel', 'towel whip', 'trainor', 'trainor kill', 'transform', 'transform cohesive', 'transformer', 'transformer sudden', 'transforms', 'transforms child', 'transforms giant', 'transforms sport', 'treat', 'treat miss', 'tremendous', 'tremendous influence', 'tribute', 'tribute michael', 'trouble', 'trouble one', 'trust', 'trust one', 'truth', 'truth already', 'truth generate', 'truths', 'truths lacan', 'try', 'try capitalize', 'try make', 'tryout', 'tryout appear', 'tryout group', 'tryouts', 'tryouts douglas', 'turn', 'turn disasterthe', 'turn event', 'turn flight', 'turn haunt', 'tv', 'tv start', 'two', 'two half', 'two pseudodocs', 'ultimate', 'ultimate pervert', 'ultimate product', 'ummm', 'ummm want', 'uncover', 'uncover lair', 'understand', 'understand comic', 'unfold', 'unfold marathon', 'urmila', 'urmila manoj', 'use', 'use become', 'use ever', 'use giallo', 'use power', 'usual', 'usual finally', 'vagina', 'vagina dentatta', 'vancouver', 'vancouver peter', 'various', 'various point', 'version', 'version differs', 'version story', 'video', 'video ever', 'video perfection', 'video smooth', 'view', 'view havent', 'viewer', 'viewer dont', 'villain', 'villain big', 'villain sort', 'villain spell', 'virtual', 'virtual direct', 'visit', 'visit old', 'voice', 'voice excorcist', 'want', 'want get', 'want psycho', 'want weirdness', 'war', 'war movie', 'war revenge', 'watch', 'watch experience', 'watch free', 'watch fun', 'watch interested', 'watch moviemoonwalker', 'watch show', 'watch still', 'watch two', 'way', 'way attention', 'way deal', 'wayif', 'wayif look', 'weak', 'weak part', 'weak villain', 'weirdness', 'weirdness watch', 'well', 'well familiarity', 'well much', 'well worth', 'whip', 'whip death', 'wife', 'wife best', 'wind', 'wind final', 'wise', 'wise movie', 'withgirlfight', 'withgirlfight follow', 'woman', 'woman faint', 'woman help', 'wonderat', 'wonderat one', 'work', 'work highly', 'work really', 'workeda', 'workeda series', 'world', 'world amateur', 'world mary', 'world michael', 'worldthe', 'worldthe pervert', 'worth', 'worth trouble', 'worth watch', 'would', 'would make', 'would something', 'write', 'write canadian', 'write sings', 'yeah', 'yeah love', 'year', 'year ago', 'year go', 'yell', 'yell burn', 'york', 'york high', 'york take', 'youre', 'youre michael', 'youtube', 'youtube watch', 'yup', 'yup ummm', 'zizek', 'zizek admit', 'zizek claim', 'zizek ideasthe', 'zizek must', 'zizek right', 'zizek select', 'zizek two', 'zoot', 'zoot suiters']\n",
      "[[0. 0. 0. ... 0. 0. 0.]\n",
      " [0. 0. 0. ... 0. 0. 0.]\n",
      " [0. 0. 0. ... 0. 0. 0.]\n",
      " ...\n",
      " [0. 0. 0. ... 0. 0. 0.]\n",
      " [0. 0. 0. ... 0. 0. 0.]\n",
      " [0. 0. 0. ... 0. 0. 0.]]\n"
     ]
    }
   ],
   "source": [
    "#TFIDF\n",
    "from sklearn.feature_extraction.text import TfidfVectorizer\n",
    "vectorizer = TfidfVectorizer(ngram_range=(1, 2))#参数默认1元\n",
    "dt=vectorizer.fit_transform(corpus)\n",
    "print(vectorizer.get_feature_names())\n",
    "print(dt.toarray())\n"
   ]
  },
  {
   "cell_type": "code",
   "execution_count": 37,
   "metadata": {},
   "outputs": [
    {
     "name": "stdout",
     "output_type": "stream",
     "text": [
      "[[ 0.25316107 -0.31702836 -0.1387501  ...  0.2091579   0.\n",
      "   0.        ]\n",
      " [ 0.52531618 -0.30617024 -0.0035743  ...  0.55271111  0.\n",
      "   0.        ]\n",
      " [ 0.35840078  0.44954423  0.42425903 ...  0.10617192  0.\n",
      "   0.        ]\n",
      " ...\n",
      " [ 0.          0.         -0.         ... -0.          0.\n",
      "   0.        ]\n",
      " [ 0.          0.         -0.         ... -0.          0.\n",
      "   0.        ]\n",
      " [ 0.          0.         -0.         ... -0.          0.\n",
      "   0.        ]]\n"
     ]
    }
   ],
   "source": [
    "#LSA\n",
    "from sklearn.decomposition import TruncatedSVD\n",
    "svd=TruncatedSVD(12)\n",
    "X1=svd.fit_transform(dt)\n",
    "print(X1)"
   ]
  },
  {
   "cell_type": "code",
   "execution_count": 38,
   "metadata": {},
   "outputs": [],
   "source": [
    "X=X1\n",
    "y=data['Sentiment']"
   ]
  },
  {
   "cell_type": "code",
   "execution_count": 39,
   "metadata": {},
   "outputs": [
    {
     "data": {
      "text/plain": [
       "0.5083333333333333"
      ]
     },
     "execution_count": 39,
     "metadata": {},
     "output_type": "execute_result"
    }
   ],
   "source": [
    "#分类模型\n",
    "from sklearn.model_selection import train_test_split\n",
    "X_train,X_test,y_train,y_test = train_test_split(X,y,test_size=0.3)#留出法划分数据集\n",
    "from sklearn.svm import SVC\n",
    "#3个不同核函数\n",
    "svc1=SVC(kernel=\"rbf\")\n",
    "svc1.fit(X_train, y_train)\n",
    "score_rbf=svc1.score(X_test,y_test)\n",
    "score_rbf"
   ]
  },
  {
   "cell_type": "code",
   "execution_count": null,
   "metadata": {},
   "outputs": [],
   "source": []
  }
 ],
 "metadata": {
  "kernelspec": {
   "display_name": "Python 3 (ipykernel)",
   "language": "python",
   "name": "python3"
  },
  "language_info": {
   "codemirror_mode": {
    "name": "ipython",
    "version": 3
   },
   "file_extension": ".py",
   "mimetype": "text/x-python",
   "name": "python",
   "nbconvert_exporter": "python",
   "pygments_lexer": "ipython3",
   "version": "3.10.8"
  },
  "toc": {
   "base_numbering": 1,
   "nav_menu": {},
   "number_sections": true,
   "sideBar": true,
   "skip_h1_title": false,
   "title_cell": "Table of Contents",
   "title_sidebar": "Contents",
   "toc_cell": false,
   "toc_position": {},
   "toc_section_display": true,
   "toc_window_display": false
  },
  "varInspector": {
   "cols": {
    "lenName": 16,
    "lenType": 16,
    "lenVar": 40
   },
   "kernels_config": {
    "python": {
     "delete_cmd_postfix": "",
     "delete_cmd_prefix": "del ",
     "library": "var_list.py",
     "varRefreshCmd": "print(var_dic_list())"
    },
    "r": {
     "delete_cmd_postfix": ") ",
     "delete_cmd_prefix": "rm(",
     "library": "var_list.r",
     "varRefreshCmd": "cat(var_dic_list()) "
    }
   },
   "types_to_exclude": [
    "module",
    "function",
    "builtin_function_or_method",
    "instance",
    "_Feature"
   ],
   "window_display": false
  }
 },
 "nbformat": 4,
 "nbformat_minor": 4
}
