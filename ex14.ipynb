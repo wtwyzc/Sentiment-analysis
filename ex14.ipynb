{
 "cells": [
  {
   "cell_type": "code",
   "execution_count": 1,
   "metadata": {
    "ExecuteTime": {
     "end_time": "2023-05-08T06:28:09.372951Z",
     "start_time": "2023-05-08T06:28:06.206825Z"
    }
   },
   "outputs": [],
   "source": [
    "import numpy as np\n",
    "import pandas as pd\n",
    "import matplotlib.pyplot  as plt\n",
    "import re  #正则表达式\n",
    "import nltk \n"
   ]
  },
  {
   "cell_type": "markdown",
   "metadata": {},
   "source": [
    "## 读入数据 "
   ]
  },
  {
   "cell_type": "code",
   "execution_count": 10,
   "metadata": {
    "ExecuteTime": {
     "end_time": "2023-05-08T07:02:22.490335Z",
     "start_time": "2023-05-08T07:02:22.446616Z"
    }
   },
   "outputs": [
    {
     "name": "stdout",
     "output_type": "stream",
     "text": [
      "<class 'pandas.core.frame.DataFrame'>\n",
      "RangeIndex: 344 entries, 0 to 343\n",
      "Data columns (total 4 columns):\n",
      " #   Column  Non-Null Count  Dtype \n",
      "---  ------  --------------  ----- \n",
      " 0   Author  344 non-null    object\n",
      " 1   Date    344 non-null    object\n",
      " 2   Text    344 non-null    object\n",
      " 3   Class   344 non-null    object\n",
      "dtypes: object(4)\n",
      "memory usage: 10.9+ KB\n",
      "spam    172\n",
      "ham     172\n",
      "Name: Class, dtype: int64\n"
     ]
    },
    {
     "data": {
      "text/html": [
       "<div>\n",
       "<style scoped>\n",
       "    .dataframe tbody tr th:only-of-type {\n",
       "        vertical-align: middle;\n",
       "    }\n",
       "\n",
       "    .dataframe tbody tr th {\n",
       "        vertical-align: top;\n",
       "    }\n",
       "\n",
       "    .dataframe thead th {\n",
       "        text-align: right;\n",
       "    }\n",
       "</style>\n",
       "<table border=\"1\" class=\"dataframe\">\n",
       "  <thead>\n",
       "    <tr style=\"text-align: right;\">\n",
       "      <th></th>\n",
       "      <th>Author</th>\n",
       "      <th>Date</th>\n",
       "      <th>Text</th>\n",
       "      <th>Class</th>\n",
       "    </tr>\n",
       "  </thead>\n",
       "  <tbody>\n",
       "    <tr>\n",
       "      <th>0</th>\n",
       "      <td>Julius NM</td>\n",
       "      <td>2013-11-07T06:20:48</td>\n",
       "      <td>Huh, anyway check out this you[tube] channel: ...</td>\n",
       "      <td>spam</td>\n",
       "    </tr>\n",
       "    <tr>\n",
       "      <th>1</th>\n",
       "      <td>adam riyati</td>\n",
       "      <td>2013-11-07T12:37:15</td>\n",
       "      <td>Hey guys check out my new channel and our firs...</td>\n",
       "      <td>spam</td>\n",
       "    </tr>\n",
       "    <tr>\n",
       "      <th>2</th>\n",
       "      <td>Evgeny Murashkin</td>\n",
       "      <td>2013-11-08T17:34:21</td>\n",
       "      <td>just for test I have to say murdev.com</td>\n",
       "      <td>spam</td>\n",
       "    </tr>\n",
       "    <tr>\n",
       "      <th>3</th>\n",
       "      <td>ElNino Melendez</td>\n",
       "      <td>2013-11-09T08:28:43</td>\n",
       "      <td>me shaking my sexy ass on my channel enjoy ^_^ ?</td>\n",
       "      <td>spam</td>\n",
       "    </tr>\n",
       "    <tr>\n",
       "      <th>4</th>\n",
       "      <td>GsMega</td>\n",
       "      <td>2013-11-10T16:05:38</td>\n",
       "      <td>watch?v=vtaRGgvGtWQ   Check this out .?</td>\n",
       "      <td>spam</td>\n",
       "    </tr>\n",
       "    <tr>\n",
       "      <th>5</th>\n",
       "      <td>Jason Haddad</td>\n",
       "      <td>2013-11-26T02:55:11</td>\n",
       "      <td>Hey, check out my new website!! This site is a...</td>\n",
       "      <td>spam</td>\n",
       "    </tr>\n",
       "    <tr>\n",
       "      <th>6</th>\n",
       "      <td>ferleck ferles</td>\n",
       "      <td>2013-11-27T21:39:24</td>\n",
       "      <td>Subscribe to my channel ?</td>\n",
       "      <td>spam</td>\n",
       "    </tr>\n",
       "    <tr>\n",
       "      <th>7</th>\n",
       "      <td>Bob Kanowski</td>\n",
       "      <td>2013-11-28T12:33:27</td>\n",
       "      <td>i turned it on mute as soon is i came on i jus...</td>\n",
       "      <td>ham</td>\n",
       "    </tr>\n",
       "    <tr>\n",
       "      <th>8</th>\n",
       "      <td>Cony</td>\n",
       "      <td>2013-11-28T16:01:47</td>\n",
       "      <td>You should check my channel for Funny VIDEOS!!?</td>\n",
       "      <td>spam</td>\n",
       "    </tr>\n",
       "    <tr>\n",
       "      <th>9</th>\n",
       "      <td>BeBe Burkey</td>\n",
       "      <td>2013-11-28T16:30:13</td>\n",
       "      <td>and u should.d check my channel and tell me wh...</td>\n",
       "      <td>spam</td>\n",
       "    </tr>\n",
       "  </tbody>\n",
       "</table>\n",
       "</div>"
      ],
      "text/plain": [
       "             Author                 Date  \\\n",
       "0         Julius NM  2013-11-07T06:20:48   \n",
       "1       adam riyati  2013-11-07T12:37:15   \n",
       "2  Evgeny Murashkin  2013-11-08T17:34:21   \n",
       "3   ElNino Melendez  2013-11-09T08:28:43   \n",
       "4            GsMega  2013-11-10T16:05:38   \n",
       "5      Jason Haddad  2013-11-26T02:55:11   \n",
       "6    ferleck ferles  2013-11-27T21:39:24   \n",
       "7      Bob Kanowski  2013-11-28T12:33:27   \n",
       "8              Cony  2013-11-28T16:01:47   \n",
       "9       BeBe Burkey  2013-11-28T16:30:13   \n",
       "\n",
       "                                                Text Class  \n",
       "0  Huh, anyway check out this you[tube] channel: ...  spam  \n",
       "1  Hey guys check out my new channel and our firs...  spam  \n",
       "2             just for test I have to say murdev.com  spam  \n",
       "3   me shaking my sexy ass on my channel enjoy ^_^ ?  spam  \n",
       "4            watch?v=vtaRGgvGtWQ   Check this out .?  spam  \n",
       "5  Hey, check out my new website!! This site is a...  spam  \n",
       "6                          Subscribe to my channel ?  spam  \n",
       "7  i turned it on mute as soon is i came on i jus...   ham  \n",
       "8    You should check my channel for Funny VIDEOS!!?  spam  \n",
       "9  and u should.d check my channel and tell me wh...  spam  "
      ]
     },
     "execution_count": 10,
     "metadata": {},
     "output_type": "execute_result"
    }
   ],
   "source": [
    "data=pd.read_csv('youtube_comment.csv') #读入数据\n",
    "data.info()  #查看数据信息\n",
    "print(data['Class'].value_counts())\n",
    "data.head(10) "
   ]
  },
  {
   "cell_type": "markdown",
   "metadata": {},
   "source": [
    "## 词形还原 "
   ]
  },
  {
   "cell_type": "code",
   "execution_count": 11,
   "metadata": {
    "ExecuteTime": {
     "end_time": "2023-05-08T07:02:25.827049Z",
     "start_time": "2023-05-08T07:02:25.805061Z"
    }
   },
   "outputs": [],
   "source": [
    "from nltk.corpus import wordnet\n",
    "from nltk import word_tokenize, pos_tag\n",
    "from nltk.stem import WordNetLemmatizer\n",
    "\n",
    "def get_wordnet_pos(treebank_tag):\n",
    "    if treebank_tag.startswith('J'):\n",
    "        return wordnet.ADJ\n",
    "    elif treebank_tag.startswith('V'):\n",
    "        return wordnet.VERB\n",
    "    elif treebank_tag.startswith('N'):\n",
    "        return wordnet.NOUN\n",
    "    elif treebank_tag.startswith('R'):\n",
    "        return wordnet.ADV\n",
    "    else:\n",
    "        return None\n",
    "\n"
   ]
  },
  {
   "cell_type": "markdown",
   "metadata": {},
   "source": [
    "## 预处理"
   ]
  },
  {
   "cell_type": "code",
   "execution_count": 12,
   "metadata": {
    "ExecuteTime": {
     "end_time": "2023-05-08T07:02:30.599636Z",
     "start_time": "2023-05-08T07:02:27.565757Z"
    },
    "scrolled": true
   },
   "outputs": [
    {
     "data": {
      "text/html": [
       "<div>\n",
       "<style scoped>\n",
       "    .dataframe tbody tr th:only-of-type {\n",
       "        vertical-align: middle;\n",
       "    }\n",
       "\n",
       "    .dataframe tbody tr th {\n",
       "        vertical-align: top;\n",
       "    }\n",
       "\n",
       "    .dataframe thead th {\n",
       "        text-align: right;\n",
       "    }\n",
       "</style>\n",
       "<table border=\"1\" class=\"dataframe\">\n",
       "  <thead>\n",
       "    <tr style=\"text-align: right;\">\n",
       "      <th></th>\n",
       "      <th>Author</th>\n",
       "      <th>Date</th>\n",
       "      <th>Text</th>\n",
       "      <th>Class</th>\n",
       "      <th>Text_words</th>\n",
       "    </tr>\n",
       "  </thead>\n",
       "  <tbody>\n",
       "    <tr>\n",
       "      <th>0</th>\n",
       "      <td>Julius NM</td>\n",
       "      <td>2013-11-07T06:20:48</td>\n",
       "      <td>Huh, anyway check out this you[tube] channel: ...</td>\n",
       "      <td>spam</td>\n",
       "      <td>[huh, anyway, check, youtube, channel]</td>\n",
       "    </tr>\n",
       "    <tr>\n",
       "      <th>1</th>\n",
       "      <td>adam riyati</td>\n",
       "      <td>2013-11-07T12:37:15</td>\n",
       "      <td>Hey guys check out my new channel and our firs...</td>\n",
       "      <td>spam</td>\n",
       "      <td>[hey, guy, check, new, channel, first, vid, mo...</td>\n",
       "    </tr>\n",
       "    <tr>\n",
       "      <th>2</th>\n",
       "      <td>Evgeny Murashkin</td>\n",
       "      <td>2013-11-08T17:34:21</td>\n",
       "      <td>just for test I have to say murdev.com</td>\n",
       "      <td>spam</td>\n",
       "      <td>[test, say, murdevcom]</td>\n",
       "    </tr>\n",
       "    <tr>\n",
       "      <th>3</th>\n",
       "      <td>ElNino Melendez</td>\n",
       "      <td>2013-11-09T08:28:43</td>\n",
       "      <td>me shaking my sexy ass on my channel enjoy ^_^ ?</td>\n",
       "      <td>spam</td>\n",
       "      <td>[shake, sexy, as, channel, enjoy]</td>\n",
       "    </tr>\n",
       "    <tr>\n",
       "      <th>4</th>\n",
       "      <td>GsMega</td>\n",
       "      <td>2013-11-10T16:05:38</td>\n",
       "      <td>watch?v=vtaRGgvGtWQ   Check this out .?</td>\n",
       "      <td>spam</td>\n",
       "      <td>[watchvvtarggvgtwq, check]</td>\n",
       "    </tr>\n",
       "    <tr>\n",
       "      <th>...</th>\n",
       "      <td>...</td>\n",
       "      <td>...</td>\n",
       "      <td>...</td>\n",
       "      <td>...</td>\n",
       "      <td>...</td>\n",
       "    </tr>\n",
       "    <tr>\n",
       "      <th>95</th>\n",
       "      <td>Jack ToadROXMK</td>\n",
       "      <td>2014-11-04T02:00:14</td>\n",
       "      <td>Anybody who subscribes to me will get 10 subsc...</td>\n",
       "      <td>spam</td>\n",
       "      <td>[anybody, subscribe, get, subscriber]</td>\n",
       "    </tr>\n",
       "    <tr>\n",
       "      <th>96</th>\n",
       "      <td>roflcopter2110</td>\n",
       "      <td>2014-11-04T02:22:06</td>\n",
       "      <td>http://thepiratebay.se/torrent/6381501/Timothy...</td>\n",
       "      <td>spam</td>\n",
       "      <td>[]</td>\n",
       "    </tr>\n",
       "    <tr>\n",
       "      <th>97</th>\n",
       "      <td>Imprezzi Vidzz</td>\n",
       "      <td>2014-11-04T03:12:23</td>\n",
       "      <td>My videos are half way decent, check them out ...</td>\n",
       "      <td>spam</td>\n",
       "      <td>[video, way, decent, check, want]</td>\n",
       "    </tr>\n",
       "    <tr>\n",
       "      <th>98</th>\n",
       "      <td>khir abqari</td>\n",
       "      <td>2014-11-04T07:37:28</td>\n",
       "      <td>they said this video are not deserve 2billion ...</td>\n",
       "      <td>ham</td>\n",
       "      <td>[say, video, deserve, view, keep, visit, watch...</td>\n",
       "    </tr>\n",
       "    <tr>\n",
       "      <th>99</th>\n",
       "      <td>Gloria Garcia</td>\n",
       "      <td>2014-11-04T11:38:51</td>\n",
       "      <td>subscribe to itz recaps and above diddle?</td>\n",
       "      <td>spam</td>\n",
       "      <td>[subscribe, itz, recap, diddle]</td>\n",
       "    </tr>\n",
       "  </tbody>\n",
       "</table>\n",
       "<p>100 rows × 5 columns</p>\n",
       "</div>"
      ],
      "text/plain": [
       "              Author                 Date  \\\n",
       "0          Julius NM  2013-11-07T06:20:48   \n",
       "1        adam riyati  2013-11-07T12:37:15   \n",
       "2   Evgeny Murashkin  2013-11-08T17:34:21   \n",
       "3    ElNino Melendez  2013-11-09T08:28:43   \n",
       "4             GsMega  2013-11-10T16:05:38   \n",
       "..               ...                  ...   \n",
       "95    Jack ToadROXMK  2014-11-04T02:00:14   \n",
       "96    roflcopter2110  2014-11-04T02:22:06   \n",
       "97    Imprezzi Vidzz  2014-11-04T03:12:23   \n",
       "98       khir abqari  2014-11-04T07:37:28   \n",
       "99     Gloria Garcia  2014-11-04T11:38:51   \n",
       "\n",
       "                                                 Text Class  \\\n",
       "0   Huh, anyway check out this you[tube] channel: ...  spam   \n",
       "1   Hey guys check out my new channel and our firs...  spam   \n",
       "2              just for test I have to say murdev.com  spam   \n",
       "3    me shaking my sexy ass on my channel enjoy ^_^ ?  spam   \n",
       "4             watch?v=vtaRGgvGtWQ   Check this out .?  spam   \n",
       "..                                                ...   ...   \n",
       "95  Anybody who subscribes to me will get 10 subsc...  spam   \n",
       "96  http://thepiratebay.se/torrent/6381501/Timothy...  spam   \n",
       "97  My videos are half way decent, check them out ...  spam   \n",
       "98  they said this video are not deserve 2billion ...   ham   \n",
       "99          subscribe to itz recaps and above diddle?  spam   \n",
       "\n",
       "                                           Text_words  \n",
       "0              [huh, anyway, check, youtube, channel]  \n",
       "1   [hey, guy, check, new, channel, first, vid, mo...  \n",
       "2                              [test, say, murdevcom]  \n",
       "3                   [shake, sexy, as, channel, enjoy]  \n",
       "4                          [watchvvtarggvgtwq, check]  \n",
       "..                                                ...  \n",
       "95              [anybody, subscribe, get, subscriber]  \n",
       "96                                                 []  \n",
       "97                  [video, way, decent, check, want]  \n",
       "98  [say, video, deserve, view, keep, visit, watch...  \n",
       "99                    [subscribe, itz, recap, diddle]  \n",
       "\n",
       "[100 rows x 5 columns]"
      ]
     },
     "execution_count": 12,
     "metadata": {},
     "output_type": "execute_result"
    }
   ],
   "source": [
    "from nltk.corpus import stopwords\n",
    "wnl = nltk.stem.WordNetLemmatizer()\n",
    "data['Text_words']=''\n",
    "for i in range(data.shape[0]):\n",
    "    text=re.sub(r'[^\\w\\s]','',data.iloc[i][2])  #正则表达式，去除标点符号\n",
    "    text=text.lower()  #小写\n",
    "    tokenize = nltk.word_tokenize(text) #英文分词\n",
    "    tokenize_letter=[w for w in tokenize if w.isalpha() ]  #删除数字\n",
    "    tokenize_text = [w for w in tokenize_letter if not w in stopwords.words('english')] #去除停用词\n",
    "    pos_tags=nltk.pos_tag(tokenize_text)#词性标注\n",
    "    words_lemma=[]\n",
    "    for pos in pos_tags:\n",
    "        if get_wordnet_pos(pos[1])!=None : #根据上面函数，J,V,N,R开头的保留，其他返回空值，如果不为空，表示如果为JVNR\n",
    "            wordnet_pos =get_wordnet_pos(pos[1]) #pos[1]为标注的词性\n",
    "            words_lemma.append(wnl.lemmatize(pos[0], pos=wordnet_pos)) # 词形还原 \n",
    "    data['Text_words'].iloc[i]=words_lemma\n",
    "data.head(100)"
   ]
  },
  {
   "cell_type": "code",
   "execution_count": 13,
   "metadata": {
    "ExecuteTime": {
     "end_time": "2023-05-08T07:02:31.601754Z",
     "start_time": "2023-05-08T07:02:31.577808Z"
    }
   },
   "outputs": [
    {
     "name": "stdout",
     "output_type": "stream",
     "text": [
      "['huh anyway check youtube channel', 'hey guy check new channel first vid monkey im monkey white shirtplease leave comment please subscribe', 'test say murdevcom', 'shake sexy as channel enjoy', 'watchvvtarggvgtwq check', 'hey check new website site kid stuff kidsmediausa com', 'subscribe channel', 'turn mute soon come want check view', 'check channel funny video', 'u shouldd check channel tell', 'hey subscribe', 'start read stop subscribe day youre entire family die want stay alive subscribe right', 'httpstwittercomgbphotographygb', 'subscribe comment', 'please', 'hello game art video scientific experiment tutorial lyric videos much much please check channel subscribe weve start soon hope able cover expectation also check weve get far', 'im check view', '', '', 'edm apparel company dedicate bring music inspire design clothe perfect rave music festival neon crop top tank tops tshirts vnecks accessory follow facebook instagraml free giveaway news visit site oncueapparel', 'think million view come people want check view', 'subscribe channel people', 'show auburn pride httpwwwteespringcomtigermeathoodie', 'check view', 'check channel', 'marketglory comstrategygameandrijamatf earn real money game', 'hey guy im yr old music producer make chiptunes music wonderful checked remixes even gangnamstyle remix like check thanks', 'check im kyle rap yeah', 'dont even watch anymore come check', 'subscribe free android game apps', 'everyone please come check new song memory martin luther king jr', 'come check view goodbye', 'sub channel reason', 'check dubstep song fireball make fruity loop really take time', 'billioncoming soon', 'dafuq korean song big usa mean support korean last time check wanted bomb', 'check channel please listen best music ever p', 'sub sub please comment want succesfull youtube pplease comment subscribe take second please subscribe ill subscribe back thanks', 'hey everyone start first yt channel grateful people check first clip give advice video improve also sure go check see im thanks time hater hate win', 'project effect music foto web sit find buy httpaudiojunglenetusereugenekalininportfoliorefeugenekalinin', 'youtubecodytolleson awesome video ill subscribe back', 'roblox minecraft world warcraft mario suscribe channel', 'subscribe ill subscribe like', 'httpwwwtwitchtvjaroadc come follow watch stream', 'raw talent raw lyric straight real hip hop everyone check new sound dizzy x get juice prod drug model citizen comment tell think dont lazy prophetz', 'subscribe channel', 'view pls comment view count next hour p', '', 'go check view', 'thumb u check video see hw view get', 'plz subscribe channel subscribe back xx', 'check back often help reach view avoid watch baby', 'video get people check hit yet', 'facebookpage chance win iphone', 'pls follow channel httpwwwtwitchtvsevadus', 'hi guy check channel', 'subscribe video minecraft', 'subscribe', 'im check much view', 'first comment chuck norrus ovbiously', 'behold view youtube video history ever', 'gon hit', 'view video time', 'dislike dislike', 'psykorean', 'omg oldspice spraytan party commercial omgim sit isnt real thing omg', 'video youtube get much view want see much view day mean people think popular actually get view', 'back quite', 'billion', 'plz check fablife welcome fablife diys challenge plz subscribe thx', 'sub channel', '', '', 'drone plz subscribe kamal tayara take drone absolutely beautiful', '', 'whats everyone try showcase talent world subscriber promise dont suck please spread cover subscribe amp share thanks much support lucas trigo stay', 'gtgtgtgt lt', 'hi thereim group leader angel rookie korean pop group member chanicka julie stephanie leah please feel free check channel leave feedback cover criticism welcome know top notch singer please come leave constructive feedback video appreciate chance improve audition korean management company plan audition jyp bighit jellyfish yg sm thank take time day read', 'free c go', 'admit come check number viewer', 'come check people still view video apparently still', 'check first video', 'check channel', 'psy gangnam style mv', 'suscribe channel please xd lol', 'wow comment section still active bad also comment', 'ching ching ling long ding ring yaaaaaa ganga sty fuck', 'please halp project', 'video channel brother', 'check channel please', 'anyone use gift card amazon itunes psn google play itunes gift card youll happy know get free gift card code free amaze site itunes gift card code', 'video many view asian thing awesome nonasian country jelly try learn asia look video', 'plizz withing channel', 'make game channel unique right l angry minecraft', 'please help go httpwwwgofundmecomlittlebrother', 'anybody subscribe get subscriber', '', 'video way decent check want', 'say video deserve view keep visit watch viewer', 'subscribe itz recap diddle', 'screw chinese crap dont even understand say isnt speak english everyone', 'need moneyenjoy', 'sub channel visuelgamingznl sub back', 'please subscribe new youtuber need help please subscribe subscribe back hoppa hoppa gangam style', 'sub dont song', 'weird video', 'like xd even subscriber xd', 'ehi guy subscribe channel new youtuber play minecraft thanks guy subscribe', 'hi everyone music check music channel lexis band uploading song cover soon dont miss please subscribe help lot take click gt', 'song never get old love', 'gofundmecomgrwmps', 'hey guy please check new google page many funny picture funnytortspics', 'milions comentars bilion view', 'zero', 'mix psy gangnam style mv psy gangnam style mv', 'view holy shit', 'view im person alive zombie apocalypse greeting spoderman', 'suscribe channel please', 'wiews wow', 'guy please subscribe help channel grow please guy', 'great music anyway', 'psy gangnam style mv', 'crazy view uk republic asia', 'discover beautiful song young moroccan', 'get gift cardsbut hate spending cash try juno wallet juno wallet earn money gift card gamestop amazon ebay amp easy earn money simple task watch videosdownloading apps amp even earn money invite friend joinits free signup sign today amp use promo code', 'somebody wake get view', 'psy get lots money youtube get view view world', 'justin bieber gay', '', 'year ago', 'dance dancepsy httpwwwreverbnationcommsmarilynmiles', 'check starlitnightsky channel see epic video', 'httpswwwtsucokodysman plz', 'stupid people video doesnt visit thousand million', '', 'check men put allot effort music unfortunatly many watch', 'pls help get vip gun cross fire al', 'add herehttpswwwfacebookcomtlouxmusic', 'check channel please sing cover', 'think place promote channel comment section lol', 'get free gift card pay pal money', 'check pivot animation channel', 'follow twitter amp ig', 'check im gaming', 'oppa yeah best song', '', 'httpswwwfacebookcomteelalala', 'httpwwwtwitchtvzxlightsoutxz', 'reminds song httpssoundcloudcompopaegiswrennalmondeyes', 'free gift card go', 'search chubbz dinero ready thanks', 'follow twitter', 'single type face earth', 'ｄａｍｎ ｔｈｉｓ ｃｏｍｍｅｎｔ ｉｓ ｆａｎｃy', 'check channel new song static youll love', 'incmediaorg truth meet', 'look channel make minecraft pe let play', 'find song', '', 'song name', 'please', 'hey guy wouldnt chacking rap give il giver vids', '', 'watch video youtube psys gangnam style view psy gangnam style mv', 'subscribe ill subscribe back', '', 'christmas song visit channel', '', 'subscribe subscribe back nice as lol', 'httpswwwchangeorgpfacebooktwitteryoutubedonotcensorjulienblanc', 'httpssoundcloudcomjackalandjameswrapupthenight', 'httpswwwsurveymonkeycomscvhmklt', 'please give chance check new music video channel wont disappoint', 'please subscribe', 'best funny viral video history youtube true', 'please check vidios', 'oppa gangnam style', 'funny thing view spam bot mean cmon view b', 'oppa', 'funny awesomeness lol aaaaaaa sexy lada', 'view video world', 'im check view holy shit', 'dear person read beautiful loving great day', 'click', 'tried new social network tsu new social network special thingyou share post well fb twitter even toll get pay registr', 'guy yellow suit kinda look jaesuk', 'people new network fbyou register also free difference get pay share comment like post onedont waste time fb sharing pay register make also money everyday post wellcome everyone', 'view theres people world multiple', 'wat da fuck view video youtube', 'omg people watch video people world watch', 'say', 'many view', 'omg view', 'subscribe plz plz plz plz plz plz', 'follow twitch enter keyword youll chance win really nice expensive gun csgo sell steam market', 'viewer', 'httpswwwtsucoaseris get money', 'fantastic', 'population world', 'view', 'wow min', 'super', 'p e c e amp l v e', 'music video get view im watch earth lol', 'please friend read book repass', 'subscribe', 'still best', 'like video youtube', 'still watch year later', 'hello im kind new youtube soon im soon go make launchpad video really appreciate get sub start people spot easily dont really care hate comment dont bother', 'loli dunno joke get lot like xd', 'view piece shit r e u k n g e', 'gangman sty dddddddrop bass', 'song ever reach view', 'im rappersongwriter check video pleasealso subscribe thanks tell think', 'hello earth population world hope great day', 'video start whole get dick stick elevator thing', 'anyone sub channel', 'prehistoric songhas', 'think youre smart headbutt face', 'dislike know real music ex enimen', 'loool nice song funny understand love', 'come see many view song', 'pray little psy', 'little psy month leave tumor head miss u', 'follow instagram', 'shit still relevant', 'lol shit never get old', 'saythis song change world completely good job psy girl awesome', 'u see camera man glass', 'comment wrong', 'hate music fucking singer koean chainise ana suck dick', 'hahahahah', 'reach view december', 'dumb guy view people earth also know equal smartie pant', 'people say song old there point listen suck stfu enjoy music mom old still listen right', 'funny thing song make take year get america', 'dont see comment mine', 'jap piece shit worthless fish head dont know like dumb untanlted gook isnt even fucken music fuck sad even thing people fuck', 'remember everyone obsessed gangnam style', 'remove video wank', 'hard sad little child actor hwang minoo dance active child suffer brain tumor month leave hard believe keep pray everyone future superstar stronglittlepsy fight share everyone pray', 'fuck keep update comment minute ago song year month ago', 'many memory', 'comment youtube user fake account psy hack youtube', 'people saw year yeat get word hole song', 'video cool', 'go voyage first comment tell family love', 'video get many view like gangnam style dont problem dont understand phenomenon like random music video', 'korean girl slut bitch hyuna', 'hey guy check kollektivet dont slappin penis think deserve much credit receive', 'still fun music video watch', 'cmon view', 'hey everyone new channel post video book review music flute please subscribe enjoy thanks', 'hey think know deal theory couldve gotten hit mabey make korea realy popular stick watch people access internet include youtube number rise half populatoin connect hacker korea love much rise hit make popular song feature dance game multiple see concert even new year eve event see mabey add hit video complain much heck hit', 'subscribe chanel', 'view queen michael jackson view omg', 'lol', 'pause last millisecond see chick laugh take try', 'year old view people world', 'psy good guy', 'view song annoy', '', 'millioon dislike', 'little psy suffer brain tumor month live please pray best luck', 'little kidz billon people earth millonget fact straight post comment', 'stupid humanity', 'come watch video call odowd crowd zombie movie part', 'know song suck dick need use google translate know fuck say', 'get come view', 'wow video view youtube video second come justin bieber baby smh world come', 'hey join publish platform share content httptsucomarkusmairhofer', 'song great view wow', 'im watch', 'view video youtubedaaaaaaaaaaannng view almost dominate entirechina', 'video view people earth', 'gangnam style', 'lol youtuber officialpsy get much money lol', 'dislikesepic failready fanboys', 'knew korean even funnier least bit end english speak quite rapidly', 'enough whole view theres planet get youre joke funny anymore', 'get subscriber summon freddy mercury ghost whipe face earth direction miley cirus', 'reach subscriber go round public pour bucket ice water people run away act wasnt people see', 'youtube money', 'shit', 'view share', 'hi guy name dylan irl football video subscriber think guy like content come check subscribe', 'get subscriber tomorrow ill epic hunger game video', 'follower please', 'view wow even baby justin beibs much doesnt deserve capitalize name', 'reach subscriber tazz friend', 'please help go college guy thanks bottom heart', '', 'awesome smart sucscribe', 'follow follow vaahidmustafic', 'psy news offcal', 'httpswwwfacebookcomnicushorbboy add mee', 'im sorry spam name jenny go high school everyone dress fashionable dont need money buy cute clothes low esteem live dad mom pass away dont really mother figure brother old boy get attention alone really want wear pretty clothes girl school get boyfriend cant self im quite shy school dont confidence talk someone friend name caroline move away im alone donate money great dont care expensive brand ill shop walmart pretty clothes also wan get nails do salon see alot girl french tip never nail salon really appreciate get hair curl httpwwwgofundmecomdressprettyonce thanks omg please', 'hate song', 'please throw sub channel', 'new goal let go', 'go channel u want see fly get burn alive', 'come check view p', 'come check new youtube chhanel go post daily', 'hav absolutely idea he say even language', 'please check vidios guy', 'still day wonder video popular illuminati confirm', 'hey guy check channel plz mine craft videos let shoot sub', 'get old', 'please subscribe', 'come check view count', 'check music video fuego u la remix', 'check music video please subscribe fuego u la remix', 'wwwmarketglorycomstrategygamelordviperas', 'shitty chinese government didnt block youtube thered close view right', 'world record youtube video view xd', 'think drunk x', 'limit sun exposure drive eliminate hassle swing car visor windshield window', 'hahah juyk allways part lol', '', 'want know name guy dance anybody know', 'httpswwwfacebookcomfudairyqueenpnrefstory', 'haha funny see salt westerner top view youtube go video dont even understand keep salt', 'follow company twitter thanks httpstwittercomthewaxedhatco', 'imagine guy put adsense view u pay ur morgage', 'hey come check new youtube let know think dont forget subscribe thanks', 'girl train dance outfit fucking sexy huge turnoff lack eyebrow', 'look picture difficult', 'dont mind im check view', 'hey guy check youtube channel know hate comment promise check entertain shotgun montagesninja defuse montages troll please guys check thanks good day', 'everyone joking hack get view theres certain amount people actually buy view', '', 'please frigea marius gabriel comment', 'bing reward earn free money u cant get ur virus blue', 'please buy new christmas shirt buy time december sell worldwide dont miss httpteespringcomtreechristmas', 'free apps get crdits click link download app do link', 'song view michael jackson smh', 'something dance even sad dance psy gangnam style mv', 'everyones back lool almost year old people still hear xd', 'view there planet lol', 'dont im watch', 'subscribe call duty vids give aways sub', 'hi guy please android photo editor download thanks httpsplaygooglecomstoreappsdetailsidcombutalabsphotoeditor', 'first view think really cool half come see stupid first']\n"
     ]
    }
   ],
   "source": [
    "# 准备语料库\n",
    "corpus=[]\n",
    "for i in range (data.shape[0]):\n",
    "    corpus.append(re.sub(r'[^\\w\\s]','',str(data['Text_words'][i])))\n",
    "print(corpus)"
   ]
  },
  {
   "cell_type": "code",
   "execution_count": 16,
   "metadata": {
    "ExecuteTime": {
     "end_time": "2023-05-08T07:03:02.165871Z",
     "start_time": "2023-05-08T07:03:02.135982Z"
    },
    "scrolled": true
   },
   "outputs": [
    {
     "name": "stdout",
     "output_type": "stream",
     "text": [
      "['aaaaaaa' 'able' 'absolutely' 'access' 'accessory' 'account' 'act'\n",
      " 'active' 'actor' 'actually' 'add' 'admit' 'adsense' 'advice' 'ago' 'al'\n",
      " 'alive' 'allot' 'allways' 'almost' 'alone' 'alot' 'also' 'amaze' 'amazon'\n",
      " 'america' 'amount' 'amp' 'ana' 'android' 'angel' 'angry' 'animation'\n",
      " 'annoy' 'anybody' 'anymore' 'anyone' 'anyway' 'apocalypse' 'app'\n",
      " 'apparel' 'apparently' 'appreciate' 'apps' 'art' 'as' 'asia' 'asian'\n",
      " 'attention' 'auburn' 'audition' 'avoid' 'away' 'aways' 'awesome'\n",
      " 'awesomeness' 'baby' 'back' 'bad' 'band' 'bass' 'beautiful' 'behold'\n",
      " 'beibs' 'believe' 'best' 'bieber' 'big' 'bighit' 'bilion' 'billion'\n",
      " 'billioncoming' 'billon' 'bing' 'bit' 'bitch' 'block' 'blue' 'bomb'\n",
      " 'book' 'bot' 'bother' 'bottom' 'boy' 'boyfriend' 'brain' 'brand' 'bring'\n",
      " 'brother' 'bucket' 'burn' 'buy' 'call' 'camera' 'cant' 'capitalize' 'car'\n",
      " 'card' 'cardsbut' 'care' 'caroline' 'cash' 'certain' 'chacking'\n",
      " 'chainise' 'challenge' 'chance' 'chanel' 'change' 'chanicka' 'channel'\n",
      " 'check' 'checked' 'chhanel' 'chick' 'child' 'chinese' 'ching' 'chiptunes'\n",
      " 'christmas' 'chubbz' 'chuck' 'cirus' 'citizen' 'click' 'clip' 'close'\n",
      " 'clothe' 'clothes' 'cmon' 'code' 'college' 'com' 'come' 'comentars'\n",
      " 'comment' 'commercial' 'company' 'complain' 'completely'\n",
      " 'comstrategygameandrijamatf' 'concert' 'confidence' 'confirm' 'connect'\n",
      " 'constructive' 'content' 'cool' 'couldve' 'count' 'country' 'cover'\n",
      " 'craft' 'crap' 'crazy' 'crdits' 'credit' 'criticism' 'crop' 'cross'\n",
      " 'crowd' 'csgo' 'curl' 'cute' 'da' 'dad' 'dafuq' 'daily' 'dance'\n",
      " 'dancepsy' 'day' 'dddddddrop' 'deal' 'dear' 'december' 'decent'\n",
      " 'dedicate' 'defuse' 'deserve' 'design' 'dick' 'diddle' 'didnt' 'die'\n",
      " 'difference' 'difficult' 'dinero' 'ding' 'direction' 'disappoint'\n",
      " 'discover' 'dislike' 'dislikesepic' 'diys' 'dizzy' 'do' 'doesnt'\n",
      " 'dominate' 'donate' 'dont' 'download' 'dress' 'drive' 'drone' 'drug'\n",
      " 'drunk' 'dubstep' 'dumb' 'dunno' 'duty' 'dylan' 'earn' 'earth' 'easily'\n",
      " 'easy' 'ebay' 'editor' 'edm' 'effect' 'effort' 'ehi' 'elevator'\n",
      " 'eliminate' 'end' 'english' 'enimen' 'enjoy' 'enough' 'enter' 'entertain'\n",
      " 'entire' 'entirechina' 'epic' 'equal' 'esteem' 'eve' 'even' 'event'\n",
      " 'ever' 'everyday' 'everyone' 'everyones' 'ex' 'expectation' 'expensive'\n",
      " 'experiment' 'exposure' 'eyebrow' 'fablife' 'face' 'facebook'\n",
      " 'facebookpage' 'fact' 'failready' 'fake' 'family' 'fanboys' 'fantastic'\n",
      " 'far' 'fashionable' 'fb' 'fbyou' 'feature' 'feedback' 'feel' 'festival'\n",
      " 'fight' 'figure' 'find' 'fire' 'fireball' 'first' 'fish' 'flute' 'fly'\n",
      " 'follow' 'follower' 'football' 'forget' 'foto' 'freddy' 'free' 'french'\n",
      " 'friend' 'frigea' 'fruity' 'fuck' 'fucken' 'fucking' 'fuego' 'fun'\n",
      " 'funnier' 'funny' 'funnytortspics' 'future' 'gabriel' 'game' 'gamestop'\n",
      " 'gaming' 'ganga' 'gangam' 'gangman' 'gangnam' 'gangnamstyle' 'gay' 'get'\n",
      " 'ghost' 'gift' 'girl' 'give' 'giveaway' 'giver' 'glass' 'go' 'goal'\n",
      " 'gofundmecomgrwmps' 'gon' 'good' 'goodbye' 'google' 'gook' 'gotten'\n",
      " 'government' 'grateful' 'great' 'greeting' 'group' 'grow' 'gt' 'gtgtgtgt'\n",
      " 'gun' 'guy' 'guys' 'hack' 'hacker' 'haha' 'hahah' 'hahahahah' 'hair'\n",
      " 'half' 'halp' 'happy' 'hard' 'hassle' 'hate' 'hater' 'hav' 'he' 'head'\n",
      " 'headbutt' 'hear' 'heart' 'heck' 'hello' 'help'\n",
      " 'herehttpswwwfacebookcomtlouxmusic' 'hey' 'hi' 'high' 'hip' 'history'\n",
      " 'hit' 'hole' 'holy' 'hop' 'hope' 'hoppa' 'hour'\n",
      " 'httpaudiojunglenetusereugenekalininportfoliorefeugenekalinin'\n",
      " 'httpsplaygooglecomstoreappsdetailsidcombutalabsphotoeditor'\n",
      " 'httpssoundcloudcomjackalandjameswrapupthenight'\n",
      " 'httpssoundcloudcompopaegiswrennalmondeyes'\n",
      " 'httpstwittercomgbphotographygb' 'httpstwittercomthewaxedhatco'\n",
      " 'httpswwwchangeorgpfacebooktwitteryoutubedonotcensorjulienblanc'\n",
      " 'httpswwwfacebookcomfudairyqueenpnrefstory'\n",
      " 'httpswwwfacebookcomnicushorbboy' 'httpswwwfacebookcomteelalala'\n",
      " 'httpswwwsurveymonkeycomscvhmklt' 'httpswwwtsucoaseris'\n",
      " 'httpswwwtsucokodysman' 'httpteespringcomtreechristmas'\n",
      " 'httptsucomarkusmairhofer' 'httpwwwgofundmecomdressprettyonce'\n",
      " 'httpwwwgofundmecomlittlebrother' 'httpwwwreverbnationcommsmarilynmiles'\n",
      " 'httpwwwteespringcomtigermeathoodie' 'httpwwwtwitchtvjaroadc'\n",
      " 'httpwwwtwitchtvsevadus' 'httpwwwtwitchtvzxlightsoutxz' 'huge' 'huh'\n",
      " 'humanity' 'hunger' 'hw' 'hwang' 'hyuna' 'ice' 'idea' 'ig' 'il' 'ill'\n",
      " 'illuminati' 'im' 'imagine' 'improve' 'include' 'incmediaorg' 'inspire'\n",
      " 'instagram' 'instagraml' 'internet' 'invite' 'iphone' 'irl' 'isnt'\n",
      " 'itunes' 'itz' 'jackson' 'jaesuk' 'jap' 'jelly' 'jellyfish' 'jenny' 'job'\n",
      " 'join' 'joinits' 'joke' 'joking' 'jr' 'juice' 'julie' 'juno' 'justin'\n",
      " 'juyk' 'jyp' 'kamal' 'keep' 'keyword' 'kid' 'kidsmediausa' 'kidz' 'kind'\n",
      " 'kinda' 'king' 'knew' 'know' 'koean' 'kollektivet' 'korea' 'korean'\n",
      " 'kyle' 'la' 'lack' 'lada' 'language' 'last' 'later' 'laugh' 'launchpad'\n",
      " 'lazy' 'leader' 'leah' 'learn' 'least' 'leave' 'let' 'lexis' 'like'\n",
      " 'limit' 'ling' 'link' 'listen' 'little' 'live' 'lol' 'loli' 'long' 'look'\n",
      " 'lool' 'loool' 'loop' 'lot' 'lots' 'love' 'loving' 'low' 'lt' 'lucas'\n",
      " 'luck' 'luther' 'lyric' 'mabey' 'make' 'man' 'management' 'many' 'mario'\n",
      " 'marius' 'market' 'marketglory' 'martin' 'mean' 'mee' 'meet' 'member'\n",
      " 'memory' 'men' 'mercury' 'michael' 'miley' 'milions' 'million' 'millioon'\n",
      " 'millisecond' 'millonget' 'min' 'mind' 'mine' 'minecraft' 'minoo'\n",
      " 'minute' 'miss' 'mix' 'model' 'mom' 'money' 'moneyenjoy' 'monkey'\n",
      " 'montages' 'montagesninja' 'month' 'morgage' 'moroccan' 'mother' 'move'\n",
      " 'movie' 'much' 'multiple' 'murdevcom' 'music' 'mute' 'mv' 'nail' 'nails'\n",
      " 'name' 'need' 'neon' 'network' 'never' 'new' 'news' 'next' 'nice'\n",
      " 'nonasian' 'norrus' 'notch' 'number' 'obsessed' 'odowd' 'offcal'\n",
      " 'officialpsy' 'often' 'old' 'oldspice' 'omg' 'omgim' 'oncueapparel'\n",
      " 'onedont' 'oppa' 'outfit' 'ovbiously' 'page' 'pal' 'pant' 'part' 'party'\n",
      " 'pass' 'pause' 'pay' 'pe' 'penis' 'people' 'perfect' 'person'\n",
      " 'phenomenon' 'photo' 'picture' 'piece' 'pivot' 'place' 'plan' 'planet'\n",
      " 'platform' 'play' 'please' 'pleasealso' 'plizz' 'pls' 'plz' 'point' 'pop'\n",
      " 'popular' 'population' 'populatoin' 'post' 'pour' 'pplease' 'pray'\n",
      " 'prehistoric' 'pretty' 'pride' 'problem' 'prod' 'producer' 'project'\n",
      " 'promise' 'promo' 'promote' 'prophetz' 'psn' 'psy' 'psykorean' 'psys'\n",
      " 'public' 'publish' 'put' 'queen' 'quite' 'random' 'rap' 'rapidly'\n",
      " 'rappersongwriter' 'rave' 'raw' 'reach' 'read' 'ready' 'real' 'really'\n",
      " 'realy' 'reason' 'recap' 'receive' 'record' 'register' 'registr'\n",
      " 'relevant' 'remember' 'reminds' 'remix' 'remixes' 'remove' 'repass'\n",
      " 'republic' 'review' 'reward' 'right' 'ring' 'rise' 'roblox' 'rookie'\n",
      " 'round' 'run' 'sad' 'salon' 'salt' 'saw' 'say' 'saythis' 'school'\n",
      " 'scientific' 'screw' 'search' 'second' 'section' 'see' 'self' 'sell'\n",
      " 'sexy' 'shake' 'share' 'sharing' 'shirt' 'shirtplease' 'shit' 'shitty'\n",
      " 'shoot' 'shop' 'shotgun' 'shouldd' 'show' 'showcase' 'shy' 'sign'\n",
      " 'signup' 'simple' 'sing' 'singer' 'single' 'sit' 'site' 'slappin' 'slut'\n",
      " 'sm' 'smart' 'smartie' 'smh' 'social' 'somebody' 'someone' 'something'\n",
      " 'song' 'songhas' 'soon' 'sorry' 'sound' 'spam' 'speak' 'special'\n",
      " 'spending' 'spoderman' 'spot' 'spraytan' 'spread' 'starlitnightsky'\n",
      " 'start' 'static' 'stay' 'steam' 'stephanie' 'stfu' 'stick' 'still' 'stop'\n",
      " 'straight' 'stream' 'stronglittlepsy' 'stuff' 'stupid' 'sty' 'style'\n",
      " 'sub' 'subscribe' 'subscriber' 'succesfull' 'suck' 'sucscribe' 'suffer'\n",
      " 'suit' 'summon' 'sun' 'super' 'superstar' 'support' 'sure' 'suscribe'\n",
      " 'swing' 'take' 'talent' 'talk' 'tank' 'task' 'tayara' 'tazz' 'tell'\n",
      " 'test' 'thank' 'thanks' 'theory' 'there' 'thered' 'thereim' 'theres'\n",
      " 'thing' 'thingyou' 'think' 'thousand' 'throw' 'thumb' 'thx' 'time' 'tip'\n",
      " 'today' 'toll' 'tomorrow' 'top' 'tops' 'train' 'translate' 'tried'\n",
      " 'trigo' 'troll' 'true' 'truth' 'try' 'tshirts' 'tsu' 'tumor' 'turn'\n",
      " 'turnoff' 'tutorial' 'twitch' 'twitter' 'type' 'uk' 'understand'\n",
      " 'unfortunatly' 'unique' 'untanlted' 'update' 'uploading' 'ur' 'usa' 'use'\n",
      " 'user' 'vaahidmustafic' 'vid' 'video' 'videos' 'videosdownloading'\n",
      " 'vidios' 'vids' 'view' 'viewer' 'vip' 'viral' 'virus' 'visit' 'visor'\n",
      " 'visuelgamingznl' 'vnecks' 'voyage' 'wake' 'wallet' 'walmart' 'wan'\n",
      " 'wank' 'want' 'wanted' 'warcraft' 'wasnt' 'waste' 'wat' 'watch'\n",
      " 'watchvvtarggvgtwq' 'water' 'way' 'wear' 'web' 'website' 'weird'\n",
      " 'welcome' 'well' 'wellcome' 'westerner' 'weve' 'whats' 'whipe' 'white'\n",
      " 'whole' 'wiews' 'win' 'window' 'windshield' 'withing' 'wonder'\n",
      " 'wonderful' 'wont' 'word' 'world' 'worldwide' 'worthless' 'wouldnt' 'wow'\n",
      " 'wrong' 'wwwmarketglorycomstrategygamelordviperas' 'xd' 'xx' 'yaaaaaa'\n",
      " 'yeah' 'year' 'yeat' 'yellow' 'yet' 'yg' 'youll' 'young' 'youre'\n",
      " 'youtube' 'youtubecodytolleson' 'youtubedaaaaaaaaaaannng' 'youtuber' 'yr'\n",
      " 'yt' 'zero' 'zombie' 'ｃｏｍｍｅｎｔ' 'ｄａｍｎ' 'ｆａｎｃy' 'ｉｓ' 'ｔｈｉｓ']\n",
      "[[0 0 0 ... 0 0 0]\n",
      " [0 0 0 ... 0 0 0]\n",
      " [0 0 0 ... 0 0 0]\n",
      " ...\n",
      " [0 0 0 ... 0 0 0]\n",
      " [0 0 0 ... 0 0 0]\n",
      " [0 0 0 ... 0 0 0]]\n"
     ]
    }
   ],
   "source": [
    "#unigram\n",
    "from sklearn.feature_extraction.text import CountVectorizer\n",
    "vectorizer = CountVectorizer(ngram_range=(1, 1)) #创建词袋子  1元 和2元，默认1元\n",
    "dt = vectorizer.fit_transform(corpus)\n",
    "print(vectorizer.get_feature_names_out())\n",
    "print(dt.toarray())  "
   ]
  },
  {
   "cell_type": "code",
   "execution_count": 18,
   "metadata": {
    "ExecuteTime": {
     "end_time": "2023-05-08T07:03:08.680970Z",
     "start_time": "2023-05-08T07:03:08.672897Z"
    }
   },
   "outputs": [],
   "source": [
    "a=pd.DataFrame(dt.toarray())\n",
    "a.columns=vectorizer.get_feature_names_out()\n",
    "X=a\n",
    "y=data['Class']"
   ]
  },
  {
   "cell_type": "code",
   "execution_count": 19,
   "metadata": {
    "ExecuteTime": {
     "end_time": "2023-05-08T07:03:11.721966Z",
     "start_time": "2023-05-08T07:03:11.482777Z"
    }
   },
   "outputs": [
    {
     "data": {
      "text/plain": [
       "0.6774083546462064"
      ]
     },
     "execution_count": 19,
     "metadata": {},
     "output_type": "execute_result"
    }
   ],
   "source": [
    "#分类模型\n",
    "from sklearn.neighbors import KNeighborsClassifier\n",
    "from sklearn.model_selection  import cross_val_score\n",
    "knn = KNeighborsClassifier(n_neighbors=3)\n",
    "scores = cross_val_score(knn,X,y, cv=5)#5折交叉验证\n",
    "scores.mean()#平均准确率"
   ]
  },
  {
   "cell_type": "code",
   "execution_count": null,
   "metadata": {},
   "outputs": [],
   "source": []
  }
 ],
 "metadata": {
  "kernelspec": {
   "display_name": "Python 3 (ipykernel)",
   "language": "python",
   "name": "python3"
  },
  "language_info": {
   "codemirror_mode": {
    "name": "ipython",
    "version": 3
   },
   "file_extension": ".py",
   "mimetype": "text/x-python",
   "name": "python",
   "nbconvert_exporter": "python",
   "pygments_lexer": "ipython3",
   "version": "3.10.9"
  },
  "toc": {
   "base_numbering": 1,
   "nav_menu": {},
   "number_sections": true,
   "sideBar": true,
   "skip_h1_title": false,
   "title_cell": "Table of Contents",
   "title_sidebar": "Contents",
   "toc_cell": false,
   "toc_position": {},
   "toc_section_display": true,
   "toc_window_display": false
  },
  "varInspector": {
   "cols": {
    "lenName": 16,
    "lenType": 16,
    "lenVar": 40
   },
   "kernels_config": {
    "python": {
     "delete_cmd_postfix": "",
     "delete_cmd_prefix": "del ",
     "library": "var_list.py",
     "varRefreshCmd": "print(var_dic_list())"
    },
    "r": {
     "delete_cmd_postfix": ") ",
     "delete_cmd_prefix": "rm(",
     "library": "var_list.r",
     "varRefreshCmd": "cat(var_dic_list()) "
    }
   },
   "types_to_exclude": [
    "module",
    "function",
    "builtin_function_or_method",
    "instance",
    "_Feature"
   ],
   "window_display": false
  }
 },
 "nbformat": 4,
 "nbformat_minor": 4
}
